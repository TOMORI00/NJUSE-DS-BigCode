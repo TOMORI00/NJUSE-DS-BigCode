{
 "cells": [
  {
   "cell_type": "code",
   "execution_count": 2,
   "metadata": {},
   "outputs": [],
   "source": [
    "#难度分析\n",
    "# coding=utf-8\n",
    "\n",
    "import os\n",
    "import pandas as pd\n",
    "import numpy as np\n",
    "import nltk\n",
    "from collections import Counter\n",
    "\n",
    "ROOTDIR = os.path.abspath(os.path.abspath(os.path.join(os.getcwd(), \"..\")))\n",
    "DATADIR = os.path.join(ROOTDIR, 'data')\n",
    "MODELDIR = os.path.join(ROOTDIR, 'model')"
   ]
  },
  {
   "cell_type": "code",
   "execution_count": 3,
   "metadata": {},
   "outputs": [],
   "source": [
    "from gensim import corpora\n",
    "from gensim import models\n",
    "\n",
    "dictionary_zh = corpora.Dictionary.load(MODELDIR + '/question_zh.dict')\n",
    "w2v_model_zh = models.Word2Vec.load(MODELDIR + \"/word2vec_zh.model\")\n",
    "df = pd.read_csv(os.path.join(DATADIR, 'question.csv'), nrows=100000)"
   ]
  },
  {
   "cell_type": "code",
   "execution_count": 4,
   "metadata": {},
   "outputs": [],
   "source": [
    "texts_zh= df.translatedContent"
   ]
  },
  {
   "cell_type": "code",
   "execution_count": 5,
   "metadata": {},
   "outputs": [
    {
     "name": "stderr",
     "output_type": "stream",
     "text": [
      "Building prefix dict from the default dictionary ...\n",
      "Loading model from cache C:\\Users\\frank\\AppData\\Local\\Temp\\jieba.cache\n",
      "Loading model cost 0.489 seconds.\n",
      "Prefix dict has been built successfully.\n"
     ]
    }
   ],
   "source": [
    "#分词\n",
    "import jieba\n",
    "\n",
    "tokenized_zh = [list(jieba.cut(question, HMM=False)) for question in texts_zh]\n",
    "\n",
    "frequent_tokenized_zh = []\n",
    "for sentence in tokenized_zh:\n",
    "    ind_list = dictionary_zh.doc2idx(sentence)\n",
    "    words = []\n",
    "    for i,ind in enumerate(ind_list):\n",
    "        if ind != -1:\n",
    "            words.append(sentence[i])\n",
    "    frequent_tokenized_zh.append(words)"
   ]
  },
  {
   "cell_type": "code",
   "execution_count": 6,
   "metadata": {},
   "outputs": [
    {
     "name": "stdout",
     "output_type": "stream",
     "text": [
      "['给定', '一个', '整数', '数组', ' ', 'nums', ' ', '和', '一个', '目标值', ' ', 'target', '，', '请', '你', '在', '该', '数组', '中', '找出', '和', '为', '目标值', '的', '那', ' ', '两个', ' ', '整数', '，', '并', '返回', '他们', '的', '数组', '下标', '。', '\\n', '你', '可以', '假设', '每种', '输入', '只', '会', '对应', '一个', '答案', '。', '但是', '，', '数组', '中', '同一个', '元素', '不能', '使用', '两遍', '。', '\\n', ' ', '\\n', '示例', ':', '\\n', '给定', ' ', 'nums', ' ', '=', ' ', '[', '2', ',', ' ', '7', ',', ' ', '11', ',', ' ', '15', ']', ',', ' ', 'target', ' ', '=', ' ', '9', '\\n', '因为', ' ', 'nums', '[', '0', ']', ' ', '+', ' ', 'nums', '[', '1', ']', ' ', '=', ' ', '2', ' ', '+', ' ', '7', ' ', '=', ' ', '9', '\\n', '所以', '返回', ' ', '[', '0', ',', ' ', '1', ']', '\\n']\n"
     ]
    }
   ],
   "source": [
    "print(frequent_tokenized_zh[0])"
   ]
  },
  {
   "cell_type": "code",
   "execution_count": 7,
   "metadata": {},
   "outputs": [
    {
     "name": "stderr",
     "output_type": "stream",
     "text": [
      "100%|█████████████████████████████████████████████████████████████████████████████| 1157/1157 [00:01<00:00, 579.46it/s]\n"
     ]
    }
   ],
   "source": [
    "#分词\n",
    "from nltk.corpus import stopwords\n",
    "from string import punctuation\n",
    "from itertools import chain\n",
    "from tqdm import tqdm\n",
    "\n",
    "def clean_text(tokenized_list, sw, punct):\n",
    "    new_list = []\n",
    "    for doc in tqdm(tokenized_list):\n",
    "        new_list.append([token.lower() for token in doc if token.lower() not in chain(punct, sw)])\n",
    "    return new_list\n",
    "\n",
    "sw_en = stopwords.words('english')\n",
    "punct_en = ' \\n'+'!\"#%&\\'()*+,-./:;<=>?@[\\\\]^_`{|}~'\n",
    "punct_zh =  '《》，。？/：；‘’“”{}【】、|—·！~ \\n'+'!\"#%&\\'()*+,-./:;<=>?@[\\\\]^_`{|}~'\n",
    "sw_zh = []\n",
    "with open (DATADIR + \"/cn_stopwords.txt\", 'r', encoding='utf8') as f:\n",
    "    sw_zh = f.read().split('\\n')\n",
    "    \n",
    "cleaned_zh = clean_text(frequent_tokenized_zh, sw_zh, punct_zh)"
   ]
  },
  {
   "cell_type": "code",
   "execution_count": 8,
   "metadata": {},
   "outputs": [
    {
     "data": {
      "text/plain": [
       "['请',\n",
       " '实现',\n",
       " '一个',\n",
       " '函数',\n",
       " '字符串',\n",
       " '转换成',\n",
       " '整数',\n",
       " '函数',\n",
       " '会',\n",
       " '需要',\n",
       " '开头',\n",
       " '空格',\n",
       " '字符',\n",
       " '寻找',\n",
       " '第一个',\n",
       " '非',\n",
       " '空格',\n",
       " '字符',\n",
       " '接下来',\n",
       " '转化',\n",
       " '规则',\n",
       " '\\t',\n",
       " '第一个',\n",
       " '非',\n",
       " '正',\n",
       " '负号',\n",
       " '时',\n",
       " '符号',\n",
       " '后面',\n",
       " '尽可能',\n",
       " '连续',\n",
       " '数字',\n",
       " '字符',\n",
       " '组合',\n",
       " '起来',\n",
       " '形成',\n",
       " '一个',\n",
       " '符号',\n",
       " '整数',\n",
       " '\\t',\n",
       " '第一个',\n",
       " '非',\n",
       " '数字',\n",
       " '直接',\n",
       " '之后',\n",
       " '连续',\n",
       " '数字',\n",
       " '字符',\n",
       " '组合',\n",
       " '起来',\n",
       " '形成',\n",
       " '一个',\n",
       " '整数',\n",
       " '\\t',\n",
       " '字符串',\n",
       " '有效',\n",
       " '整数',\n",
       " '部分',\n",
       " '之后',\n",
       " '可能',\n",
       " '会',\n",
       " '存在',\n",
       " '多余',\n",
       " '字符',\n",
       " '字符',\n",
       " '忽略',\n",
       " '函数',\n",
       " '应该',\n",
       " '造成',\n",
       " '影响',\n",
       " '注意',\n",
       " '字符串',\n",
       " '中',\n",
       " '第一个',\n",
       " '非',\n",
       " '空格',\n",
       " '字符',\n",
       " '一个',\n",
       " '有效',\n",
       " '整数',\n",
       " '字符',\n",
       " '字符串',\n",
       " '空',\n",
       " '字符串',\n",
       " '仅',\n",
       " '包含',\n",
       " '空白',\n",
       " '字符',\n",
       " '时',\n",
       " '函数',\n",
       " '需要',\n",
       " '进行',\n",
       " '转换',\n",
       " '无法',\n",
       " '进行',\n",
       " '有效',\n",
       " '转换',\n",
       " '情况',\n",
       " '函数',\n",
       " '不能',\n",
       " '进行',\n",
       " '有效',\n",
       " '转换',\n",
       " '时',\n",
       " '请',\n",
       " '返回',\n",
       " '提示',\n",
       " '\\t',\n",
       " '本题',\n",
       " '中',\n",
       " '空白',\n",
       " '字符',\n",
       " '包括',\n",
       " '空格',\n",
       " '字符',\n",
       " '\\t',\n",
       " '假设',\n",
       " '环境',\n",
       " '只能',\n",
       " '存储',\n",
       " '32',\n",
       " '位',\n",
       " '大小',\n",
       " '符号',\n",
       " '整数',\n",
       " '数值',\n",
       " '范围',\n",
       " '231',\n",
       " '231',\n",
       " '数值',\n",
       " '超过',\n",
       " '范围',\n",
       " '请',\n",
       " '返回',\n",
       " 'int',\n",
       " 'max',\n",
       " '231',\n",
       " 'int',\n",
       " '231',\n",
       " '示例',\n",
       " '输入',\n",
       " '42',\n",
       " '输出',\n",
       " '42',\n",
       " '示例',\n",
       " '输入',\n",
       " '42',\n",
       " '输出',\n",
       " '42',\n",
       " '解释',\n",
       " '第一个',\n",
       " '非',\n",
       " '空白',\n",
       " '字符',\n",
       " '一个',\n",
       " '负号',\n",
       " '尽可能',\n",
       " '负号',\n",
       " '后面',\n",
       " '连续',\n",
       " '出现',\n",
       " '数字',\n",
       " '组合',\n",
       " '起来',\n",
       " '最后',\n",
       " '得到',\n",
       " '42',\n",
       " '示例',\n",
       " '输入',\n",
       " 'with',\n",
       " 'words',\n",
       " '输出',\n",
       " '解释',\n",
       " '转换',\n",
       " '数字',\n",
       " '一个',\n",
       " '字符',\n",
       " '数字',\n",
       " '示例',\n",
       " '输入',\n",
       " 'words',\n",
       " 'and',\n",
       " '987',\n",
       " '输出',\n",
       " '解释',\n",
       " '第一个',\n",
       " '非',\n",
       " 'w',\n",
       " '数字',\n",
       " '正',\n",
       " '负号',\n",
       " '无法',\n",
       " '执行',\n",
       " '有效',\n",
       " '转换',\n",
       " '示例',\n",
       " '输入',\n",
       " '输出',\n",
       " '解释',\n",
       " '数字',\n",
       " '超过',\n",
       " '32',\n",
       " '位',\n",
       " '符号',\n",
       " '整数',\n",
       " '范围',\n",
       " '返回',\n",
       " 'int',\n",
       " '231']"
      ]
     },
     "execution_count": 8,
     "metadata": {},
     "output_type": "execute_result"
    }
   ],
   "source": [
    "cleaned_zh[7]"
   ]
  },
  {
   "cell_type": "code",
   "execution_count": 9,
   "metadata": {},
   "outputs": [],
   "source": [
    "vec_zh = np.array([w2v_model_zh.wv[q].sum(axis=0)/len(q) for q in cleaned_zh])\n",
    "\n",
    "del cleaned_zh"
   ]
  },
  {
   "cell_type": "code",
   "execution_count": 10,
   "metadata": {},
   "outputs": [
    {
     "data": {
      "text/plain": [
       "array([ 0.43103325,  0.0360846 ,  0.39615297,  0.6381981 , -0.085049  ,\n",
       "        0.04093946, -0.6049238 ,  0.17438114,  0.6403803 ,  0.54130864,\n",
       "       -0.7390599 ,  0.14174323, -0.35750473, -0.2932794 ,  0.20000586,\n",
       "       -0.099351  ,  0.4048941 ,  0.46955442,  0.20348316, -0.0607734 ,\n",
       "       -0.10044172,  0.05286546, -0.34681422,  0.00929286,  0.29727829,\n",
       "        0.45557943, -0.8683909 , -0.6683247 , -0.4011617 , -0.30180654,\n",
       "        0.3756954 ,  0.47482458, -0.5685826 ,  0.1536928 ,  0.376837  ,\n",
       "        0.02324097,  0.9508312 , -0.1850929 , -1.0164165 , -0.83583087,\n",
       "       -0.16840978, -0.04556242, -0.2157654 , -0.750401  , -0.6608275 ,\n",
       "        0.5866044 , -0.4934889 , -0.3113054 ,  0.124686  ,  1.4223927 ,\n",
       "        0.67270374,  0.41499957, -0.7361785 ,  0.37390894, -0.4476009 ,\n",
       "       -0.23917863,  0.2447273 , -0.30522513,  0.61338603,  0.26457918,\n",
       "        0.7584073 ,  0.47170392, -0.31533238, -0.3899771 , -0.5451417 ,\n",
       "       -0.33931842,  0.13131502,  0.23023726, -0.39810032, -0.11084425,\n",
       "       -1.5611904 , -0.34641677,  0.35209975, -0.35113436, -1.4034988 ,\n",
       "        0.5647608 ,  0.7666652 ,  0.1669022 ,  0.15591618,  0.5569417 ,\n",
       "        0.1749743 , -0.2794778 , -0.63953453,  0.01332655, -0.21371733,\n",
       "        0.28078368,  0.666369  ,  0.0928268 , -0.36219856,  0.043761  ,\n",
       "        1.0146699 ,  0.7715224 ,  0.301919  ,  0.12961131,  0.35695624,\n",
       "        0.5991504 , -0.00894637,  0.2858156 , -0.37660265, -0.81748945,\n",
       "        0.72016895,  0.0538338 , -0.10272454, -0.1038826 , -0.52749264,\n",
       "        1.3983475 , -0.2857508 , -0.42774418, -0.3177215 , -0.64379114,\n",
       "        0.15219587, -0.6334581 , -0.08747236,  0.20738663,  0.5363141 ,\n",
       "       -0.113679  , -0.29514456,  0.46589652,  0.4434366 , -0.245703  ,\n",
       "        0.2671485 , -0.74728954,  0.54831177, -0.52991986, -0.7229427 ,\n",
       "        0.37939513,  0.33358636, -0.3758244 ,  0.0831915 ,  0.01016924,\n",
       "        0.11149956, -0.900586  , -0.33991784, -0.04386616, -0.7053695 ,\n",
       "        0.44455934,  0.3319291 ,  0.31337327, -0.66772   , -0.4209181 ,\n",
       "        0.11079425,  0.57969403, -0.45139688,  0.36115715,  0.2900945 ,\n",
       "       -0.27883285,  0.24912143, -0.12860492, -0.28107366,  0.18469368,\n",
       "        0.2655562 ,  0.39948288, -0.43878508,  1.1241999 , -1.1909586 ,\n",
       "        0.8997386 , -0.7759125 , -0.04912264,  0.83115333,  0.04809486,\n",
       "        0.2779407 ,  0.46970415,  0.46898305, -0.8941277 , -0.19473603,\n",
       "       -0.02316052, -0.40614983, -0.76444066,  0.7693367 , -0.09499229,\n",
       "        0.5908552 , -0.45761052, -1.1869913 , -1.3181448 , -0.7685289 ,\n",
       "        1.0361215 ,  0.3557193 ,  0.38923982, -0.19571972, -0.23541085,\n",
       "        0.20929933, -0.8020237 ,  0.3182469 ,  0.0159085 , -0.27741137,\n",
       "       -0.0132554 , -0.37451652,  0.15915743, -0.32441103,  0.43685457,\n",
       "       -0.0308767 , -0.7863192 , -0.923081  , -0.14025956,  0.28563863,\n",
       "       -0.20817596, -0.55350095, -0.45315206,  0.24324654, -0.37934145,\n",
       "        0.11973706,  0.4558968 , -0.4788106 ,  0.12521258, -0.18403655,\n",
       "        0.7106957 ,  0.10055986,  0.29514074, -0.36218476, -0.3799119 ,\n",
       "        0.4308937 ,  0.08237777,  0.05531508, -0.74496764,  0.03878826,\n",
       "        0.46325868,  0.24479419,  0.5942822 ,  0.088539  ,  0.60348606,\n",
       "        0.42401388, -0.01360914,  0.5790971 , -0.15647611,  0.04800759,\n",
       "        0.25594616,  0.02394039,  0.2942978 ,  0.517978  ,  0.15325014,\n",
       "        0.50053054,  0.33800682, -0.722099  , -0.5907376 , -1.0077059 ,\n",
       "        0.23374529, -0.09325473,  0.17671773,  0.53171134,  0.06241379,\n",
       "        0.15906279,  0.11625043,  0.26549518, -0.43393087,  0.41690436,\n",
       "       -0.02050131,  0.24321124, -0.56521505,  0.21241342, -0.1508727 ,\n",
       "        0.00354403,  0.0128876 , -0.60384685, -0.09623482,  0.6945057 ,\n",
       "        0.53195864,  0.15603231,  0.37906268,  0.31113368, -0.5918033 ,\n",
       "        0.1550816 , -0.28794423,  0.297905  ,  0.48163176,  0.01605364,\n",
       "       -0.47073805, -0.02888476, -0.17716233, -0.9410631 , -0.73247206,\n",
       "       -0.23173511,  0.6566098 ,  0.66114414,  0.03476305, -0.4589252 ,\n",
       "       -0.07788388, -0.35471147,  0.1586474 ,  0.65112007,  0.6830947 ,\n",
       "        0.13436905,  0.479635  ,  0.28817764,  0.15776134, -0.42527962,\n",
       "        0.23802383, -0.24101938, -0.7058675 , -0.8625417 , -0.01299537,\n",
       "        0.15946376, -0.2011989 ,  0.03396867,  0.13197502, -0.7930119 ,\n",
       "       -0.22873701,  0.03751943,  0.04008765,  1.2251486 ,  0.21558458],\n",
       "      dtype=float32)"
      ]
     },
     "execution_count": 10,
     "metadata": {},
     "output_type": "execute_result"
    }
   ],
   "source": [
    "vec_zh[0]"
   ]
  },
  {
   "cell_type": "markdown",
   "metadata": {},
   "source": [
    "**以下是根据question.csv中difficulty训练的模型，已弃用。**"
   ]
  },
  {
   "cell_type": "code",
   "execution_count": 54,
   "metadata": {},
   "outputs": [
    {
     "data": {
      "text/plain": [
       "array([0, 1, 1, ..., 1, 1, 2])"
      ]
     },
     "execution_count": 54,
     "metadata": {},
     "output_type": "execute_result"
    }
   ],
   "source": [
    "#用数字表示难度\n",
    "def str2int(s):\n",
    "    return 0 if s=='Easy' else (1 if s=='Medium' else 2)\n",
    "difficulty_int = np.array([str2int(s) for s in df.difficulty])\n",
    "\n",
    "difficulty_int"
   ]
  },
  {
   "cell_type": "code",
   "execution_count": 139,
   "metadata": {},
   "outputs": [],
   "source": [
    "from sklearn.model_selection import train_test_split\n",
    "\n",
    "seed = 42\n",
    "test_size = 0.33\n",
    "\n",
    "X = vec_zh\n",
    "X = np.insert(X, 0, 1, axis=1)\n",
    "y = difficulty_int\n",
    "\n",
    "X_train, X_test, y_train, y_test = train_test_split(X, y, test_size=test_size, random_state=seed)"
   ]
  },
  {
   "cell_type": "code",
   "execution_count": 95,
   "metadata": {},
   "outputs": [
    {
     "name": "stderr",
     "output_type": "stream",
     "text": [
      "C:\\Users\\frank\\Anaconda3\\envs\\py36\\lib\\site-packages\\sklearn\\linear_model\\_logistic.py:764: ConvergenceWarning: lbfgs failed to converge (status=1):\n",
      "STOP: TOTAL NO. of ITERATIONS REACHED LIMIT.\n",
      "\n",
      "Increase the number of iterations (max_iter) or scale the data as shown in:\n",
      "    https://scikit-learn.org/stable/modules/preprocessing.html\n",
      "Please also refer to the documentation for alternative solver options:\n",
      "    https://scikit-learn.org/stable/modules/linear_model.html#logistic-regression\n",
      "  extra_warning_msg=_LOGISTIC_SOLVER_CONVERGENCE_MSG)\n"
     ]
    },
    {
     "data": {
      "text/plain": [
       "0.49476439790575916"
      ]
     },
     "execution_count": 95,
     "metadata": {},
     "output_type": "execute_result"
    }
   ],
   "source": [
    "# instantiate a logistic regression model, and fit with X and y\n",
    "from sklearn.linear_model import LogisticRegression\n",
    "\n",
    "lr = LogisticRegression()\n",
    "lr = lr.fit(X_train, y_train)\n",
    "\n",
    "y_pred = lr.predict(X_test)\n",
    "\n",
    "# check the accuracy on the training set\n",
    "lr.score(X_test, y_test)"
   ]
  },
  {
   "cell_type": "code",
   "execution_count": 98,
   "metadata": {},
   "outputs": [
    {
     "data": {
      "text/plain": [
       "0.5209424083769634"
      ]
     },
     "execution_count": 98,
     "metadata": {},
     "output_type": "execute_result"
    }
   ],
   "source": [
    "from sklearn.ensemble import RandomForestClassifier\n",
    "\n",
    "clf = RandomForestClassifier(n_estimators=100)\n",
    "clf = clf.fit(X_train, y_train)\n",
    "\n",
    "y_pred = clf.predict(X_test)\n",
    "\n",
    "# check the accuracy on the training set\n",
    "clf.score(X_test, y_test)"
   ]
  },
  {
   "cell_type": "markdown",
   "metadata": {},
   "source": [
    "## feature engineering\n",
    "\n",
    "1. length of every question\n",
    "2. number of tokens in every question\n",
    "3. number of \"numbers\" in every question"
   ]
  },
  {
   "cell_type": "code",
   "execution_count": 111,
   "metadata": {},
   "outputs": [],
   "source": [
    "#增加题目的特征\n",
    "def is_number(s):\n",
    "    try:\n",
    "        float(s)\n",
    "        return True\n",
    "    except ValueError:\n",
    "        pass\n",
    "    return False\n",
    "\n",
    "def cal_numbers(tokens):\n",
    "    num = 0\n",
    "    for t in tokens:\n",
    "        if is_number(t):\n",
    "            num += 1\n",
    "    return num"
   ]
  },
  {
   "cell_type": "code",
   "execution_count": 119,
   "metadata": {},
   "outputs": [],
   "source": [
    "# 1. length of every question\n",
    "f_1 = np.array([[len(q) for q in texts_zh]])\n",
    "\n",
    "# 2. number of tokens in every question\n",
    "f_2 = np.array([[len(q) for q in tokenized_zh]])\n",
    "\n",
    "# 3. number of \"numbers\" in every question\n",
    "f_3 = np.array([[cal_numbers(q) for q in tokenized_zh]])"
   ]
  },
  {
   "cell_type": "code",
   "execution_count": 136,
   "metadata": {},
   "outputs": [
    {
     "data": {
      "text/plain": [
       "(1157, 304)"
      ]
     },
     "execution_count": 136,
     "metadata": {},
     "output_type": "execute_result"
    }
   ],
   "source": [
    "X = vec_zh\n",
    "X = np.insert(X_norm, 0, 1, axis=1)\n",
    "X = np.c_[X,f_1.T]\n",
    "X = np.c_[X,f_2.T]\n",
    "X = np.c_[X,f_3.T]\n",
    "X.shape"
   ]
  },
  {
   "cell_type": "code",
   "execution_count": 137,
   "metadata": {},
   "outputs": [
    {
     "data": {
      "text/plain": [
       "0.48429319371727747"
      ]
     },
     "execution_count": 137,
     "metadata": {},
     "output_type": "execute_result"
    }
   ],
   "source": [
    "X_train, X_test, y_train, y_test = train_test_split(X, y, test_size=test_size, random_state=seed)\n",
    "\n",
    "clf = RandomForestClassifier(n_estimators=100)\n",
    "clf = clf.fit(X_train, y_train)\n",
    "\n",
    "y_pred = clf.predict(X_test)\n",
    "\n",
    "# check the accuracy on the training set\n",
    "clf.score(X_test, y_test)"
   ]
  },
  {
   "cell_type": "markdown",
   "metadata": {},
   "source": [
    "**以下是根据question.csv中totalAccepted和totalSubmission训练的模型**"
   ]
  },
  {
   "cell_type": "code",
   "execution_count": 11,
   "metadata": {},
   "outputs": [
    {
     "data": {
      "text/plain": [
       "array([1179287,  467429,  551133, ...,    3405,    2031,     959],\n",
       "      dtype=int64)"
      ]
     },
     "execution_count": 11,
     "metadata": {},
     "output_type": "execute_result"
    }
   ],
   "source": [
    "totalAccepted = np.array(df.totalAccepted)\n",
    "\n",
    "totalAccepted"
   ]
  },
  {
   "cell_type": "code",
   "execution_count": 12,
   "metadata": {},
   "outputs": [
    {
     "data": {
      "image/png": "[encoded data removed]",
      "text/plain": [
       "<Figure size 432x288 with 1 Axes>"
      ]
     },
     "metadata": {
      "needs_background": "light"
     },
     "output_type": "display_data"
    }
   ],
   "source": [
    "#通过数 长尾分布\n",
    "#通过数/提交数 均匀分布\n",
    "%matplotlib inline\n",
    "\n",
    "import matplotlib \n",
    "import matplotlib.pyplot as plt\n",
    "\n",
    "x = np.array(range(len(totalAccepted)))\n",
    "y = totalAccepted\n",
    "plt.scatter(x, y)\n",
    "plt.show()"
   ]
  },
  {
   "cell_type": "code",
   "execution_count": 13,
   "metadata": {},
   "outputs": [
    {
     "data": {
      "image/png": "[encoded data removed]",
      "text/plain": [
       "<Figure size 432x288 with 1 Axes>"
      ]
     },
     "metadata": {
      "needs_background": "light"
     },
     "output_type": "display_data"
    }
   ],
   "source": [
    "totalSubmission = np.array(df.totalSubmission)\n",
    "\n",
    "corrected_totalAccepted = totalAccepted/totalSubmission\n",
    "corrected_totalAccepted = corrected_totalAccepted/corrected_totalAccepted.max()\n",
    "\n",
    "x = np.array(range(len(totalAccepted)))\n",
    "y = corrected_totalAccepted\n",
    "plt.scatter(x, y)\n",
    "plt.show()"
   ]
  },
  {
   "cell_type": "code",
   "execution_count": 14,
   "metadata": {},
   "outputs": [],
   "source": [
    "from sklearn.model_selection import train_test_split\n",
    "\n",
    "seed = 42\n",
    "test_size = 0.33\n",
    "\n",
    "X = vec_zh\n",
    "X = np.insert(X, 0, 1, axis=1)\n",
    "y = corrected_totalAccepted\n",
    "\n",
    "X_train, X_test, y_train, y_test = train_test_split(X, y, test_size=test_size, random_state=seed)"
   ]
  },
  {
   "cell_type": "markdown",
   "metadata": {},
   "source": [
    "### ridge regression"
   ]
  },
  {
   "cell_type": "code",
   "execution_count": 15,
   "metadata": {},
   "outputs": [
    {
     "data": {
      "text/plain": [
       "-0.28283801183586044"
      ]
     },
     "execution_count": 15,
     "metadata": {},
     "output_type": "execute_result"
    }
   ],
   "source": [
    "from sklearn import linear_model\n",
    "\n",
    "linear_reg = linear_model.Ridge(alpha=0.5)\n",
    "linear_reg = linear_reg.fit(X_train, y_train)\n",
    "\n",
    "y_pred = linear_reg.predict(X_test)\n",
    "\n",
    "# check the accuracy on the training set\n",
    "linear_reg.score(X_test, y_test)"
   ]
  },
  {
   "cell_type": "markdown",
   "metadata": {},
   "source": [
    "### svm regression"
   ]
  },
  {
   "cell_type": "code",
   "execution_count": 16,
   "metadata": {},
   "outputs": [
    {
     "data": {
      "text/plain": [
       "-0.026555941798890093"
      ]
     },
     "execution_count": 16,
     "metadata": {},
     "output_type": "execute_result"
    }
   ],
   "source": [
    "from sklearn import svm\n",
    "\n",
    "svm_reg = svm.SVR()\n",
    "svm_reg = svm_reg.fit(X_train, y_train)\n",
    "\n",
    "y_pred = svm_reg.predict(X_test)\n",
    "\n",
    "# check the accuracy on the training set\n",
    "svm_reg.score(X_test, y_test)"
   ]
  },
  {
   "cell_type": "markdown",
   "metadata": {},
   "source": [
    "### Voting Regressor"
   ]
  },
  {
   "cell_type": "code",
   "execution_count": 17,
   "metadata": {},
   "outputs": [
    {
     "data": {
      "text/plain": [
       "-0.02210258546649757"
      ]
     },
     "execution_count": 17,
     "metadata": {},
     "output_type": "execute_result"
    }
   ],
   "source": [
    "from sklearn.ensemble import GradientBoostingRegressor\n",
    "from sklearn.ensemble import RandomForestRegressor\n",
    "from sklearn.linear_model import LinearRegression\n",
    "from sklearn.ensemble import VotingRegressor\n",
    "\n",
    "reg1 = GradientBoostingRegressor(random_state=1, n_estimators=10)\n",
    "reg2 = RandomForestRegressor(random_state=1, n_estimators=10)\n",
    "reg3 = LinearRegression()\n",
    "\n",
    "vot_reg = VotingRegressor(estimators=[('gb', reg1), ('rf', reg2), ('lr', reg3)])\n",
    "vot_reg = vot_reg.fit(X_train, y_train)\n",
    "\n",
    "y_pred = vot_reg.predict(X_test)\n",
    "\n",
    "# check the accuracy on the training set\n",
    "vot_reg.score(X_test, y_test)"
   ]
  },
  {
   "cell_type": "markdown",
   "metadata": {},
   "source": [
    "### NN Regressor with sigmoid"
   ]
  },
  {
   "cell_type": "code",
   "execution_count": 18,
   "metadata": {},
   "outputs": [
    {
     "name": "stdout",
     "output_type": "stream",
     "text": [
      "NN_reg(\n",
      "  (l): Linear(in_features=300, out_features=1, bias=True)\n",
      "  (s): Sigmoid()\n",
      ")\n"
     ]
    }
   ],
   "source": [
    "import torch\n",
    "from torch import nn, optim\n",
    "from torch.autograd import Variable\n",
    "import matplotlib.pyplot as plt\n",
    "import matplotlib.animation as animation\n",
    "\n",
    "class NN_reg(torch.nn.Module):\n",
    "    def __init__(self,feature_num):\n",
    "        super(NN_reg, self).__init__()\n",
    "        self.l = torch.nn.Linear(feature_num, 1)\n",
    "        self.s = nn.Sigmoid()\n",
    "\n",
    "    def forward(self, x):\n",
    "        x = self.l(x)\n",
    "        x = self.s(x)\n",
    "        return x\n",
    "    \n",
    "X = torch.tensor(vec_zh).float()\n",
    "y = torch.tensor(corrected_totalAccepted)\n",
    "y = torch.reshape(y,(-1,1)).float()\n",
    "X_train, X_test, y_train, y_test = train_test_split(X, y, test_size=test_size, random_state=seed)\n",
    "\n",
    "net = NN_reg(X.shape[1])\n",
    "print(net)"
   ]
  },
  {
   "cell_type": "code",
   "execution_count": 19,
   "metadata": {},
   "outputs": [],
   "source": [
    "loss_func = torch.nn.MSELoss() \n",
    "optimizer = optim.SGD(net.parameters(), lr=0.005, momentum=0.9)\n",
    "#训练\n",
    "for t in range(2000):\n",
    "    prediction = net(X_train)\n",
    "    loss = loss_func(prediction, y_train)\n",
    "\n",
    "    optimizer.zero_grad()\n",
    "    loss.backward()\n",
    "    optimizer.step()"
   ]
  },
  {
   "cell_type": "code",
   "execution_count": 20,
   "metadata": {},
   "outputs": [
    {
     "data": {
      "text/plain": [
       "0.04175652152224241"
      ]
     },
     "execution_count": 20,
     "metadata": {},
     "output_type": "execute_result"
    }
   ],
   "source": [
    "#测试\n",
    "from sklearn.metrics import r2_score\n",
    "prediction = net(X_test)\n",
    "r2_score(y_test,prediction.data.numpy())"
   ]
  },
  {
   "cell_type": "markdown",
   "metadata": {},
   "source": [
    "# 题目难度分析"
   ]
  },
  {
   "cell_type": "code",
   "execution_count": 23,
   "metadata": {},
   "outputs": [],
   "source": [
    "texts = df.translatedContent"
   ]
  },
  {
   "cell_type": "code",
   "execution_count": 25,
   "metadata": {},
   "outputs": [
    {
     "name": "stderr",
     "output_type": "stream",
     "text": [
      "100%|█████████████████████████████████████████████████████████████████████████████| 1157/1157 [00:02<00:00, 577.40it/s]\n"
     ]
    }
   ],
   "source": [
    "import jieba\n",
    "from nltk.corpus import stopwords\n",
    "from string import punctuation\n",
    "from itertools import chain\n",
    "from tqdm import tqdm\n",
    "\n",
    "dictionary = corpora.Dictionary.load(MODELDIR + '/question_zh.dict')\n",
    "tokenized = [list(jieba.cut(question, HMM=False)) for question in texts]\n",
    "\n",
    "frequent_tokenized = []\n",
    "for sentence in tokenized:\n",
    "    ind_list = dictionary.doc2idx(sentence)\n",
    "    words = []\n",
    "    for i,ind in enumerate(ind_list):\n",
    "        if ind != -1:\n",
    "            words.append(sentence[i])\n",
    "    frequent_tokenized.append(words)\n",
    "    \n",
    "\n",
    "\n",
    "def clean_text(tokenized_list, sw, punct):\n",
    "    new_list = []\n",
    "    for doc in tqdm(tokenized_list):\n",
    "        new_list.append([token.lower() for token in doc if token.lower() not in chain(punct, sw)])\n",
    "    return new_list\n",
    "\n",
    "punct =  '《》，。？/：；‘’“”{}【】、|—·！~ \\n'+'!\"#%&\\'()*+,-./:;<=>?@[\\\\]^_`{|}~'\n",
    "sw = []\n",
    "with open (DATADIR + \"/cn_stopwords.txt\", 'r', encoding='utf8') as f:\n",
    "    sw = f.read().split('\\n')\n",
    "    \n",
    "cleaned = clean_text(frequent_tokenized, sw, punct)"
   ]
  },
  {
   "cell_type": "code",
   "execution_count": 31,
   "metadata": {},
   "outputs": [
    {
     "data": {
      "text/plain": [
       "torch.Size([1157, 300])"
      ]
     },
     "execution_count": 31,
     "metadata": {},
     "output_type": "execute_result"
    }
   ],
   "source": [
    "vec = np.array([w2v_model_zh.wv[q].sum(axis=0)/len(q) for q in cleaned])\n",
    "\n",
    "torch.tensor(vec).float().shape"
   ]
  },
  {
   "cell_type": "code",
   "execution_count": 69,
   "metadata": {},
   "outputs": [
    {
     "data": {
      "text/plain": [
       "array([[0.5595547 ],\n",
       "       [0.5141993 ],\n",
       "       [0.49719226],\n",
       "       ...,\n",
       "       [0.5154109 ],\n",
       "       [0.5455286 ],\n",
       "       [0.5535108 ]], dtype=float32)"
      ]
     },
     "execution_count": 69,
     "metadata": {},
     "output_type": "execute_result"
    }
   ],
   "source": [
    "prediction = net(torch.tensor(vec).float())\n",
    "\n",
    "difficulty = prediction.data.numpy()\n",
    "difficulty"
   ]
  },
  {
   "cell_type": "code",
   "execution_count": 73,
   "metadata": {},
   "outputs": [
    {
     "name": "stdout",
     "output_type": "stream",
     "text": [
      "[0.18150377]\n",
      "[0.9385168]\n"
     ]
    }
   ],
   "source": [
    "print(min(difficulty))\n",
    "print(max(difficulty))"
   ]
  },
  {
   "cell_type": "code",
   "execution_count": 70,
   "metadata": {},
   "outputs": [],
   "source": [
    "difficulty = difficulty/(max(difficulty) - min(difficulty) + 0.1) - 0.8"
   ]
  },
  {
   "cell_type": "code",
   "execution_count": 41,
   "metadata": {},
   "outputs": [
    {
     "data": {
      "text/html": [
       "<div>\n",
       "<style scoped>\n",
       "    .dataframe tbody tr th:only-of-type {\n",
       "        vertical-align: middle;\n",
       "    }\n",
       "\n",
       "    .dataframe tbody tr th {\n",
       "        vertical-align: top;\n",
       "    }\n",
       "\n",
       "    .dataframe thead th {\n",
       "        text-align: right;\n",
       "    }\n",
       "</style>\n",
       "<table border=\"1\" class=\"dataframe\">\n",
       "  <thead>\n",
       "    <tr style=\"text-align: right;\">\n",
       "      <th></th>\n",
       "      <th>questionId</th>\n",
       "      <th>lite_score</th>\n",
       "      <th>sch_score</th>\n",
       "      <th>d2_score</th>\n",
       "      <th>oral_score</th>\n",
       "    </tr>\n",
       "  </thead>\n",
       "  <tbody>\n",
       "    <tr>\n",
       "      <th>0</th>\n",
       "      <td>1</td>\n",
       "      <td>0.200000</td>\n",
       "      <td>0.900000</td>\n",
       "      <td>0.500000</td>\n",
       "      <td>0.200000</td>\n",
       "    </tr>\n",
       "    <tr>\n",
       "      <th>1</th>\n",
       "      <td>2</td>\n",
       "      <td>0.142857</td>\n",
       "      <td>0.857143</td>\n",
       "      <td>0.571429</td>\n",
       "      <td>0.142857</td>\n",
       "    </tr>\n",
       "    <tr>\n",
       "      <th>2</th>\n",
       "      <td>3</td>\n",
       "      <td>0.208333</td>\n",
       "      <td>0.875000</td>\n",
       "      <td>0.541667</td>\n",
       "      <td>0.100000</td>\n",
       "    </tr>\n",
       "    <tr>\n",
       "      <th>3</th>\n",
       "      <td>4</td>\n",
       "      <td>0.500000</td>\n",
       "      <td>0.750000</td>\n",
       "      <td>0.250000</td>\n",
       "      <td>0.125000</td>\n",
       "    </tr>\n",
       "    <tr>\n",
       "      <th>4</th>\n",
       "      <td>5</td>\n",
       "      <td>0.111111</td>\n",
       "      <td>0.777778</td>\n",
       "      <td>0.666667</td>\n",
       "      <td>0.333333</td>\n",
       "    </tr>\n",
       "    <tr>\n",
       "      <th>...</th>\n",
       "      <td>...</td>\n",
       "      <td>...</td>\n",
       "      <td>...</td>\n",
       "      <td>...</td>\n",
       "      <td>...</td>\n",
       "    </tr>\n",
       "    <tr>\n",
       "      <th>1152</th>\n",
       "      <td>1622</td>\n",
       "      <td>0.161290</td>\n",
       "      <td>0.677419</td>\n",
       "      <td>0.129032</td>\n",
       "      <td>0.419355</td>\n",
       "    </tr>\n",
       "    <tr>\n",
       "      <th>1153</th>\n",
       "      <td>1626</td>\n",
       "      <td>0.142857</td>\n",
       "      <td>0.785714</td>\n",
       "      <td>0.428571</td>\n",
       "      <td>0.100000</td>\n",
       "    </tr>\n",
       "    <tr>\n",
       "      <th>1154</th>\n",
       "      <td>1627</td>\n",
       "      <td>0.183673</td>\n",
       "      <td>0.530612</td>\n",
       "      <td>0.448980</td>\n",
       "      <td>0.142857</td>\n",
       "    </tr>\n",
       "    <tr>\n",
       "      <th>1155</th>\n",
       "      <td>1628</td>\n",
       "      <td>0.200000</td>\n",
       "      <td>0.500000</td>\n",
       "      <td>0.400000</td>\n",
       "      <td>0.100000</td>\n",
       "    </tr>\n",
       "    <tr>\n",
       "      <th>1156</th>\n",
       "      <td>1629</td>\n",
       "      <td>0.117647</td>\n",
       "      <td>0.882353</td>\n",
       "      <td>0.176471</td>\n",
       "      <td>0.294118</td>\n",
       "    </tr>\n",
       "  </tbody>\n",
       "</table>\n",
       "<p>1157 rows × 5 columns</p>\n",
       "</div>"
      ],
      "text/plain": [
       "      questionId  lite_score  sch_score  d2_score  oral_score\n",
       "0              1    0.200000   0.900000  0.500000    0.200000\n",
       "1              2    0.142857   0.857143  0.571429    0.142857\n",
       "2              3    0.208333   0.875000  0.541667    0.100000\n",
       "3              4    0.500000   0.750000  0.250000    0.125000\n",
       "4              5    0.111111   0.777778  0.666667    0.333333\n",
       "...          ...         ...        ...       ...         ...\n",
       "1152        1622    0.161290   0.677419  0.129032    0.419355\n",
       "1153        1626    0.142857   0.785714  0.428571    0.100000\n",
       "1154        1627    0.183673   0.530612  0.448980    0.142857\n",
       "1155        1628    0.200000   0.500000  0.400000    0.100000\n",
       "1156        1629    0.117647   0.882353  0.176471    0.294118\n",
       "\n",
       "[1157 rows x 5 columns]"
      ]
     },
     "execution_count": 41,
     "metadata": {},
     "output_type": "execute_result"
    }
   ],
   "source": [
    "result_df = pd.read_csv(os.path.join(DATADIR, 'leetcode_result.csv'), nrows=100000)\n",
    "\n",
    "result_df"
   ]
  },
  {
   "cell_type": "code",
   "execution_count": 75,
   "metadata": {},
   "outputs": [
    {
     "data": {
      "text/html": [
       "<div>\n",
       "<style scoped>\n",
       "    .dataframe tbody tr th:only-of-type {\n",
       "        vertical-align: middle;\n",
       "    }\n",
       "\n",
       "    .dataframe tbody tr th {\n",
       "        vertical-align: top;\n",
       "    }\n",
       "\n",
       "    .dataframe thead th {\n",
       "        text-align: right;\n",
       "    }\n",
       "</style>\n",
       "<table border=\"1\" class=\"dataframe\">\n",
       "  <thead>\n",
       "    <tr style=\"text-align: right;\">\n",
       "      <th></th>\n",
       "      <th>questionId</th>\n",
       "      <th>lite_score</th>\n",
       "      <th>sch_score</th>\n",
       "      <th>d2_score</th>\n",
       "      <th>oral_score</th>\n",
       "      <th>diffculty</th>\n",
       "    </tr>\n",
       "  </thead>\n",
       "  <tbody>\n",
       "    <tr>\n",
       "      <th>0</th>\n",
       "      <td>1</td>\n",
       "      <td>0.200000</td>\n",
       "      <td>0.900000</td>\n",
       "      <td>0.500000</td>\n",
       "      <td>0.200000</td>\n",
       "      <td>0.559645</td>\n",
       "    </tr>\n",
       "    <tr>\n",
       "      <th>1</th>\n",
       "      <td>2</td>\n",
       "      <td>0.142857</td>\n",
       "      <td>0.857143</td>\n",
       "      <td>0.571429</td>\n",
       "      <td>0.142857</td>\n",
       "      <td>0.449437</td>\n",
       "    </tr>\n",
       "    <tr>\n",
       "      <th>2</th>\n",
       "      <td>3</td>\n",
       "      <td>0.208333</td>\n",
       "      <td>0.875000</td>\n",
       "      <td>0.541667</td>\n",
       "      <td>0.100000</td>\n",
       "      <td>0.408112</td>\n",
       "    </tr>\n",
       "    <tr>\n",
       "      <th>3</th>\n",
       "      <td>4</td>\n",
       "      <td>0.500000</td>\n",
       "      <td>0.750000</td>\n",
       "      <td>0.250000</td>\n",
       "      <td>0.125000</td>\n",
       "      <td>0.532104</td>\n",
       "    </tr>\n",
       "    <tr>\n",
       "      <th>4</th>\n",
       "      <td>5</td>\n",
       "      <td>0.111111</td>\n",
       "      <td>0.777778</td>\n",
       "      <td>0.666667</td>\n",
       "      <td>0.333333</td>\n",
       "      <td>0.467431</td>\n",
       "    </tr>\n",
       "    <tr>\n",
       "      <th>...</th>\n",
       "      <td>...</td>\n",
       "      <td>...</td>\n",
       "      <td>...</td>\n",
       "      <td>...</td>\n",
       "      <td>...</td>\n",
       "      <td>...</td>\n",
       "    </tr>\n",
       "    <tr>\n",
       "      <th>1152</th>\n",
       "      <td>1622</td>\n",
       "      <td>0.161290</td>\n",
       "      <td>0.677419</td>\n",
       "      <td>0.129032</td>\n",
       "      <td>0.419355</td>\n",
       "      <td>0.498648</td>\n",
       "    </tr>\n",
       "    <tr>\n",
       "      <th>1153</th>\n",
       "      <td>1626</td>\n",
       "      <td>0.142857</td>\n",
       "      <td>0.785714</td>\n",
       "      <td>0.428571</td>\n",
       "      <td>0.100000</td>\n",
       "      <td>0.657149</td>\n",
       "    </tr>\n",
       "    <tr>\n",
       "      <th>1154</th>\n",
       "      <td>1627</td>\n",
       "      <td>0.183673</td>\n",
       "      <td>0.530612</td>\n",
       "      <td>0.448980</td>\n",
       "      <td>0.142857</td>\n",
       "      <td>0.452381</td>\n",
       "    </tr>\n",
       "    <tr>\n",
       "      <th>1155</th>\n",
       "      <td>1628</td>\n",
       "      <td>0.200000</td>\n",
       "      <td>0.500000</td>\n",
       "      <td>0.400000</td>\n",
       "      <td>0.100000</td>\n",
       "      <td>0.525563</td>\n",
       "    </tr>\n",
       "    <tr>\n",
       "      <th>1156</th>\n",
       "      <td>1629</td>\n",
       "      <td>0.117647</td>\n",
       "      <td>0.882353</td>\n",
       "      <td>0.176471</td>\n",
       "      <td>0.294118</td>\n",
       "      <td>0.544959</td>\n",
       "    </tr>\n",
       "  </tbody>\n",
       "</table>\n",
       "<p>1157 rows × 6 columns</p>\n",
       "</div>"
      ],
      "text/plain": [
       "      questionId  lite_score  sch_score  d2_score  oral_score  diffculty\n",
       "0              1    0.200000   0.900000  0.500000    0.200000   0.559645\n",
       "1              2    0.142857   0.857143  0.571429    0.142857   0.449437\n",
       "2              3    0.208333   0.875000  0.541667    0.100000   0.408112\n",
       "3              4    0.500000   0.750000  0.250000    0.125000   0.532104\n",
       "4              5    0.111111   0.777778  0.666667    0.333333   0.467431\n",
       "...          ...         ...        ...       ...         ...        ...\n",
       "1152        1622    0.161290   0.677419  0.129032    0.419355   0.498648\n",
       "1153        1626    0.142857   0.785714  0.428571    0.100000   0.657149\n",
       "1154        1627    0.183673   0.530612  0.448980    0.142857   0.452381\n",
       "1155        1628    0.200000   0.500000  0.400000    0.100000   0.525563\n",
       "1156        1629    0.117647   0.882353  0.176471    0.294118   0.544959\n",
       "\n",
       "[1157 rows x 6 columns]"
      ]
     },
     "execution_count": 75,
     "metadata": {},
     "output_type": "execute_result"
    }
   ],
   "source": [
    "result_df['diffculty'] = difficulty\n",
    "\n",
    "result_df"
   ]
  },
  {
   "cell_type": "code",
   "execution_count": 76,
   "metadata": {},
   "outputs": [],
   "source": [
    "result_df.to_csv(os.path.join(DATADIR, 'leetcode_result.csv'),index=0)"
   ]
  }
 ],
 "metadata": {
  "kernelspec": {
   "display_name": "py36",
   "language": "python",
   "name": "py36"
  },
  "language_info": {
   "codemirror_mode": {
    "name": "ipython",
    "version": 3
   },
   "file_extension": ".py",
   "mimetype": "text/x-python",
   "name": "python",
   "nbconvert_exporter": "python",
   "pygments_lexer": "ipython3",
   "version": "3.6.10"
  },
  "pycharm": {
   "stem_cell": {
    "cell_type": "raw",
    "source": [],
    "metadata": {
     "collapsed": false
    }
   }
  }
 },
 "nbformat": 4,
 "nbformat_minor": 4
}