{
 "cells": [
  {
   "cell_type": "code",
   "execution_count": 1,
   "metadata": {},
   "outputs": [],
   "source": [
    "# coding=utf-8\n",
    "\n",
    "import os\n",
    "import pandas as pd\n",
    "import numpy as np\n",
    "import nltk\n",
    "from collections import Counter\n",
    "from gensim import corpora\n",
    "from gensim import models\n",
    "\n",
    "ROOTDIR = os.path.abspath(os.path.abspath(os.path.join(os.getcwd(), \"..\")))\n",
    "DATADIR = os.path.join(ROOTDIR, 'data')\n",
    "MODELDIR = os.path.join(ROOTDIR, 'model')\n",
    "\n",
    "dictionary_zh = corpora.Dictionary.load(MODELDIR + '/question_zh.dict')\n",
    "w2v_model_zh = models.Word2Vec.load(MODELDIR + \"/word2vec_zh.model\")\n",
    "dictionary_en = corpora.Dictionary.load(MODELDIR + '/question.dict')\n",
    "w2v_model_en = models.Word2Vec.load(MODELDIR + \"/word2vec.model\")\n",
    "df = pd.read_csv(os.path.join(DATADIR, 'question.csv'), nrows=100000)"
   ]
  },
  {
   "cell_type": "code",
   "execution_count": 2,
   "metadata": {},
   "outputs": [
    {
     "name": "stderr",
     "output_type": "stream",
     "text": [
      "Building prefix dict from the default dictionary ...\n",
      "Loading model from cache C:\\Users\\frank\\AppData\\Local\\Temp\\jieba.cache\n",
      "Loading model cost 0.487 seconds.\n",
      "Prefix dict has been built successfully.\n"
     ]
    }
   ],
   "source": [
    "import jieba\n",
    "\n",
    "texts_zh= df.translatedContent\n",
    "texts_en= df.content\n",
    "\n",
    "tokenized_en = [nltk.word_tokenize(question) for question in texts_en]\n",
    "\n",
    "frequent_tokenized_en = []\n",
    "for sentence in tokenized_en:\n",
    "    ind_list = dictionary_en.doc2idx(sentence)\n",
    "    words = []\n",
    "    for i,ind in enumerate(ind_list):\n",
    "        if ind != -1:\n",
    "            words.append(sentence[i])\n",
    "    frequent_tokenized_en.append(words)\n",
    "\n",
    "tokenized_zh = [list(jieba.cut(question, HMM=False)) for question in texts_zh]\n",
    "\n",
    "frequent_tokenized_zh = []\n",
    "for sentence in tokenized_zh:\n",
    "    ind_list = dictionary_zh.doc2idx(sentence)\n",
    "    words = []\n",
    "    for i,ind in enumerate(ind_list):\n",
    "        if ind != -1:\n",
    "            words.append(sentence[i])\n",
    "    frequent_tokenized_zh.append(words)"
   ]
  },
  {
   "cell_type": "code",
   "execution_count": 3,
   "metadata": {},
   "outputs": [
    {
     "name": "stderr",
     "output_type": "stream",
     "text": [
      "100%|█████████████████████████████████████████████████████████████████████████████| 1157/1157 [00:01<00:00, 583.14it/s]\n",
      "100%|████████████████████████████████████████████████████████████████████████████| 1157/1157 [00:00<00:00, 2222.41it/s]\n"
     ]
    }
   ],
   "source": [
    "from nltk.corpus import stopwords\n",
    "from string import punctuation\n",
    "from itertools import chain\n",
    "from tqdm import tqdm\n",
    "\n",
    "def clean_text(tokenized_list, sw, punct):\n",
    "    new_list = []\n",
    "    for doc in tqdm(tokenized_list):\n",
    "        new_list.append([token.lower() for token in doc if token.lower() not in chain(punct, sw)])\n",
    "    return new_list\n",
    "\n",
    "sw_en = stopwords.words('english')\n",
    "punct_en = ' \\n'+'!\"#%&\\'()*+,-./:;<=>?@[\\\\]^_`{|}~'\n",
    "punct_zh =  '《》，。？/：；‘’“”{}【】、|—·！~ \\n'+'!\"#%&\\'()*+,-./:;<=>?@[\\\\]^_`{|}~'\n",
    "sw_zh = []\n",
    "with open (DATADIR + \"/cn_stopwords.txt\", 'r', encoding='utf8') as f:\n",
    "    sw_zh = f.read().split('\\n')\n",
    "    \n",
    "cleaned_zh = clean_text(frequent_tokenized_zh, sw_zh, punct_zh)\n",
    "cleaned_en = clean_text(frequent_tokenized_en, sw_en, punct_en)"
   ]
  },
  {
   "cell_type": "code",
   "execution_count": 4,
   "metadata": {},
   "outputs": [],
   "source": [
    "vec_zh = np.array([w2v_model_zh.wv[q].sum(axis=0)/len(q) for q in cleaned_zh])\n",
    "vec_en = np.array([w2v_model_en.wv[q].sum(axis=0)/len(q) for q in cleaned_en])\n",
    "\n",
    "del cleaned_zh\n",
    "del cleaned_en"
   ]
  },
  {
   "cell_type": "code",
   "execution_count": 5,
   "metadata": {},
   "outputs": [
    {
     "data": {
      "text/plain": [
       "array([8576, 4544, 3918, ...,    8,   18,    9], dtype=int64)"
      ]
     },
     "execution_count": 5,
     "metadata": {},
     "output_type": "execute_result"
    }
   ],
   "source": [
    "likes = np.array(df.likes)\n",
    "\n",
    "likes"
   ]
  },
  {
   "cell_type": "code",
   "execution_count": 6,
   "metadata": {},
   "outputs": [
    {
     "data": {
      "image/png": "[encoded data removed]",
      "text/plain": [
       "<Figure size 432x288 with 1 Axes>"
      ]
     },
     "metadata": {
      "needs_background": "light"
     },
     "output_type": "display_data"
    }
   ],
   "source": [
    "#点赞数 长尾分布\n",
    "#点赞数/提交数 均匀分布\n",
    "%matplotlib inline\n",
    "\n",
    "import matplotlib \n",
    "import matplotlib.pyplot as plt\n",
    "\n",
    "x = np.array(range(len(likes)))\n",
    "y = likes\n",
    "plt.scatter(x, y)\n",
    "plt.show()"
   ]
  },
  {
   "cell_type": "code",
   "execution_count": 7,
   "metadata": {},
   "outputs": [
    {
     "data": {
      "image/png": "[encoded data removed]",
      "text/plain": [
       "<Figure size 432x288 with 1 Axes>"
      ]
     },
     "metadata": {
      "needs_background": "light"
     },
     "output_type": "display_data"
    }
   ],
   "source": [
    "totalSubmission = np.array(df.totalSubmission)\n",
    "\n",
    "corrected_likes = likes/totalSubmission\n",
    "corrected_likes = corrected_likes/corrected_likes.max()\n",
    "\n",
    "x = np.array(range(len(likes)))\n",
    "y = corrected_likes\n",
    "plt.scatter(x, y)\n",
    "plt.show()"
   ]
  },
  {
   "cell_type": "code",
   "execution_count": 23,
   "metadata": {},
   "outputs": [],
   "source": [
    "from sklearn.model_selection import train_test_split\n",
    "\n",
    "seed = 42\n",
    "test_size = 0.33\n",
    "\n",
    "X = vec_zh\n",
    "y = corrected_likes\n",
    "\n",
    "X_train, X_test, y_train, y_test = train_test_split(X, y, test_size=test_size, random_state=seed)"
   ]
  },
  {
   "cell_type": "markdown",
   "metadata": {},
   "source": [
    "### ridge regression"
   ]
  },
  {
   "cell_type": "code",
   "execution_count": 24,
   "metadata": {},
   "outputs": [
    {
     "data": {
      "text/plain": [
       "-0.019352070937959542"
      ]
     },
     "execution_count": 24,
     "metadata": {},
     "output_type": "execute_result"
    }
   ],
   "source": [
    "#线性模型\n",
    "from sklearn import linear_model\n",
    "\n",
    "linear_reg = linear_model.Ridge(alpha=0.5)\n",
    "linear_reg = linear_reg.fit(X_train, y_train)\n",
    "\n",
    "y_pred = linear_reg.predict(X_test)\n",
    "\n",
    "# check the accuracy on the training set\n",
    "linear_reg.score(X_test, y_test)"
   ]
  },
  {
   "cell_type": "markdown",
   "metadata": {},
   "source": [
    "### svm regression\n",
    "#svm回归"
   ]
  },
  {
   "cell_type": "code",
   "execution_count": 25,
   "metadata": {},
   "outputs": [
    {
     "data": {
      "text/plain": [
       "0.09467015038209403"
      ]
     },
     "execution_count": 25,
     "metadata": {},
     "output_type": "execute_result"
    }
   ],
   "source": [
    "from sklearn import svm\n",
    "\n",
    "svm_reg = svm.SVR()\n",
    "svm_reg = svm_reg.fit(X_train, y_train)\n",
    "\n",
    "y_pred = svm_reg.predict(X_test)\n",
    "\n",
    "# check the accuracy on the training set\n",
    "svm_reg.score(X_test, y_test)"
   ]
  },
  {
   "cell_type": "markdown",
   "metadata": {},
   "source": [
    "### svm regression with standardization"
   ]
  },
  {
   "cell_type": "code",
   "execution_count": 11,
   "metadata": {},
   "outputs": [
    {
     "data": {
      "text/plain": [
       "0.07029518810810365"
      ]
     },
     "execution_count": 11,
     "metadata": {},
     "output_type": "execute_result"
    }
   ],
   "source": [
    "def standardization(data):\n",
    "    mu = np.mean(data, axis=0)\n",
    "    sigma = np.std(data, axis=0)\n",
    "    return (data - mu) / sigma\n",
    "\n",
    "X = standardization(vec_zh)\n",
    "X = np.insert(X, 0, 1, axis=1)\n",
    "X_train, X_test, y_train, y_test = train_test_split(X, y, test_size=test_size, random_state=seed)\n",
    "\n",
    "svm_reg = svm.SVR()\n",
    "svm_reg = svm_reg.fit(X_train, y_train)\n",
    "\n",
    "y_pred = svm_reg.predict(X_test)\n",
    "\n",
    "# check the accuracy on the training set\n",
    "svm_reg.score(X_test, y_test)"
   ]
  },
  {
   "cell_type": "markdown",
   "metadata": {},
   "source": [
    "### Voting Regressor"
   ]
  },
  {
   "cell_type": "code",
   "execution_count": 12,
   "metadata": {},
   "outputs": [
    {
     "data": {
      "text/plain": [
       "0.016424946061624923"
      ]
     },
     "execution_count": 12,
     "metadata": {},
     "output_type": "execute_result"
    }
   ],
   "source": [
    "from sklearn.ensemble import GradientBoostingRegressor\n",
    "from sklearn.ensemble import RandomForestRegressor\n",
    "from sklearn.linear_model import LinearRegression\n",
    "from sklearn.ensemble import VotingRegressor\n",
    "\n",
    "reg1 = GradientBoostingRegressor(random_state=1, n_estimators=10)\n",
    "reg2 = RandomForestRegressor(random_state=1, n_estimators=10)\n",
    "reg3 = LinearRegression()\n",
    "\n",
    "vot_reg = VotingRegressor(estimators=[('gb', reg1), ('rf', reg2), ('lr', reg3)])\n",
    "vot_reg = vot_reg.fit(X_train, y_train)\n",
    "\n",
    "y_pred = vot_reg.predict(X_test)\n",
    "\n",
    "# check the accuracy on the training set\n",
    "vot_reg.score(X_test, y_test)"
   ]
  },
  {
   "cell_type": "markdown",
   "metadata": {},
   "source": [
    "### NN Regressor with sigmoid\n",
    "#神经网络"
   ]
  },
  {
   "cell_type": "code",
   "execution_count": 13,
   "metadata": {},
   "outputs": [
    {
     "name": "stdout",
     "output_type": "stream",
     "text": [
      "NN_reg(\n",
      "  (l): Linear(in_features=300, out_features=1, bias=True)\n",
      "  (s): Sigmoid()\n",
      ")\n"
     ]
    }
   ],
   "source": [
    "import torch\n",
    "from torch import nn, optim\n",
    "\n",
    "class NN_reg(torch.nn.Module):\n",
    "    def __init__(self,feature_num):\n",
    "        super(NN_reg, self).__init__()\n",
    "        self.l = torch.nn.Linear(feature_num, 1)\n",
    "        self.s = nn.Sigmoid()\n",
    "\n",
    "    def forward(self, x):\n",
    "        x = self.l(x)\n",
    "        x = self.s(x)\n",
    "        return x\n",
    "    \n",
    "X = torch.tensor(vec_zh).float()\n",
    "y = torch.tensor(corrected_likes)\n",
    "y = torch.reshape(y,(-1,1)).float()\n",
    "X_train, X_test, y_train, y_test = train_test_split(X, y, test_size=test_size, random_state=seed)\n",
    "\n",
    "net = NN_reg(X.shape[1])\n",
    "print(net)"
   ]
  },
  {
   "cell_type": "code",
   "execution_count": 14,
   "metadata": {},
   "outputs": [],
   "source": [
    "loss_func = torch.nn.MSELoss() \n",
    "optimizer = optim.SGD(net.parameters(), lr=0.005, momentum=0.9)\n",
    "#训练\n",
    "for t in range(2000):\n",
    "    prediction = net(X_train)\n",
    "    loss = loss_func(prediction, y_train)\n",
    "\n",
    "    optimizer.zero_grad()\n",
    "    loss.backward()\n",
    "    optimizer.step()"
   ]
  },
  {
   "cell_type": "code",
   "execution_count": 15,
   "metadata": {},
   "outputs": [
    {
     "data": {
      "text/plain": [
       "0.08285465055005126"
      ]
     },
     "execution_count": 15,
     "metadata": {},
     "output_type": "execute_result"
    }
   ],
   "source": [
    "#测试\n",
    "from sklearn.metrics import r2_score\n",
    "prediction = net(X_test)\n",
    "r2_score(y_test,prediction.data.numpy())"
   ]
  },
  {
   "cell_type": "markdown",
   "metadata": {},
   "source": [
    "### NN Regressor without sigmoid"
   ]
  },
  {
   "cell_type": "code",
   "execution_count": 153,
   "metadata": {},
   "outputs": [
    {
     "name": "stdout",
     "output_type": "stream",
     "text": [
      "NN_reg(\n",
      "  (l): Linear(in_features=300, out_features=10, bias=True)\n",
      "  (out): Linear(in_features=10, out_features=1, bias=True)\n",
      ")\n"
     ]
    }
   ],
   "source": [
    "HIDDEN = 10\n",
    "\n",
    "class NN_reg(torch.nn.Module):\n",
    "    def __init__(self,feature_num):\n",
    "        super(NN_reg, self).__init__()\n",
    "        self.l = torch.nn.Linear(feature_num, HIDDEN)\n",
    "        self.out = torch.nn.Linear(HIDDEN, 1)\n",
    "\n",
    "    def forward(self, x):\n",
    "        x = self.l(x)\n",
    "        x = self.out(x)\n",
    "        return x\n",
    "    \n",
    "X = torch.tensor(vec_zh).float()\n",
    "y = torch.tensor(corrected_likes)\n",
    "y = torch.reshape(y,(-1,1)).float()\n",
    "X_train, X_test, y_train, y_test = train_test_split(X, y, test_size=test_size, random_state=seed)\n",
    "\n",
    "net = NN_reg(X.shape[1])\n",
    "print(net)"
   ]
  },
  {
   "cell_type": "code",
   "execution_count": 154,
   "metadata": {},
   "outputs": [
    {
     "name": "stdout",
     "output_type": "stream",
     "text": [
      "0 0.024358548\n",
      "100 0.017748618\n",
      "200 0.016625583\n",
      "300 0.01601156\n",
      "400 0.015590989\n",
      "500 0.015269746\n",
      "600 0.015007348\n",
      "700 0.0147832455\n",
      "800 0.014585944\n",
      "900 0.014408559\n",
      "1000 0.014246768\n",
      "1100 0.014097719\n",
      "1200 0.013959463\n",
      "1300 0.013830598\n",
      "1400 0.013710075\n",
      "1500 0.01359706\n",
      "1600 0.013490865\n",
      "1700 0.013390905\n",
      "1800 0.013296664\n",
      "1900 0.013207669\n",
      "2000 0.013123494\n",
      "2100 0.013043741\n",
      "2200 0.012968043\n",
      "2300 0.012896066\n",
      "2400 0.012827494\n",
      "2500 0.0127620455\n",
      "2600 0.012699464\n",
      "2700 0.012639509\n",
      "2800 0.01258197\n",
      "2900 0.012526654\n"
     ]
    }
   ],
   "source": [
    "loss_func = torch.nn.MSELoss() \n",
    "optimizer = optim.SGD(net.parameters(), lr=0.005, momentum=0.9)\n",
    "\n",
    "loss_min = 1\n",
    "for t in range(3000):\n",
    "    prediction = net(X_train)\n",
    "    loss = loss_func(prediction, y_train)\n",
    "\n",
    "    optimizer.zero_grad()\n",
    "    loss.backward()\n",
    "    optimizer.step()\n",
    "    if t%100 == 0:\n",
    "        print(t,loss.data.numpy())"
   ]
  },
  {
   "cell_type": "code",
   "execution_count": 155,
   "metadata": {},
   "outputs": [
    {
     "data": {
      "text/plain": [
       "0.022133680002894063"
      ]
     },
     "execution_count": 155,
     "metadata": {},
     "output_type": "execute_result"
    }
   ],
   "source": [
    "from sklearn.metrics import r2_score\n",
    "prediction = net(X_test)\n",
    "r2_score(y_test,prediction.data.numpy())"
   ]
  },
  {
   "cell_type": "markdown",
   "metadata": {},
   "source": [
    "# 题目难度分析"
   ]
  },
  {
   "cell_type": "code",
   "execution_count": 16,
   "metadata": {},
   "outputs": [],
   "source": [
    "texts = df.translatedContent"
   ]
  },
  {
   "cell_type": "code",
   "execution_count": 17,
   "metadata": {},
   "outputs": [
    {
     "name": "stderr",
     "output_type": "stream",
     "text": [
      "100%|█████████████████████████████████████████████████████████████████████████████| 1157/1157 [00:02<00:00, 573.44it/s]\n"
     ]
    }
   ],
   "source": [
    "import jieba\n",
    "from nltk.corpus import stopwords\n",
    "from string import punctuation\n",
    "from itertools import chain\n",
    "from tqdm import tqdm\n",
    "\n",
    "dictionary = corpora.Dictionary.load(MODELDIR + '/question_zh.dict')\n",
    "tokenized = [list(jieba.cut(question, HMM=False)) for question in texts]\n",
    "\n",
    "frequent_tokenized = []\n",
    "for sentence in tokenized:\n",
    "    ind_list = dictionary.doc2idx(sentence)\n",
    "    words = []\n",
    "    for i,ind in enumerate(ind_list):\n",
    "        if ind != -1:\n",
    "            words.append(sentence[i])\n",
    "    frequent_tokenized.append(words)\n",
    "    \n",
    "\n",
    "\n",
    "def clean_text(tokenized_list, sw, punct):\n",
    "    new_list = []\n",
    "    for doc in tqdm(tokenized_list):\n",
    "        new_list.append([token.lower() for token in doc if token.lower() not in chain(punct, sw)])\n",
    "    return new_list\n",
    "\n",
    "punct =  '《》，。？/：；‘’“”{}【】、|—·！~ \\n'+'!\"#%&\\'()*+,-./:;<=>?@[\\\\]^_`{|}~'\n",
    "sw = []\n",
    "with open (DATADIR + \"/cn_stopwords.txt\", 'r', encoding='utf8') as f:\n",
    "    sw = f.read().split('\\n')\n",
    "    \n",
    "cleaned = clean_text(frequent_tokenized, sw, punct)"
   ]
  },
  {
   "cell_type": "code",
   "execution_count": 21,
   "metadata": {},
   "outputs": [
    {
     "data": {
      "text/plain": [
       "(1157, 300)"
      ]
     },
     "execution_count": 21,
     "metadata": {},
     "output_type": "execute_result"
    }
   ],
   "source": [
    "vec = np.array([w2v_model_zh.wv[q].sum(axis=0)/len(q) for q in cleaned])\n",
    "\n",
    "vec.shape"
   ]
  },
  {
   "cell_type": "code",
   "execution_count": 34,
   "metadata": {},
   "outputs": [
    {
     "data": {
      "text/plain": [
       "array([0.03540647, 0.13903075, 0.04521823, ..., 0.12312686, 0.1770728 ,\n",
       "       0.19676012], dtype=float32)"
      ]
     },
     "execution_count": 34,
     "metadata": {},
     "output_type": "execute_result"
    }
   ],
   "source": [
    "popularity = linear_reg.predict(vec)\n",
    "\n",
    "popularity"
   ]
  },
  {
   "cell_type": "code",
   "execution_count": 36,
   "metadata": {},
   "outputs": [
    {
     "name": "stdout",
     "output_type": "stream",
     "text": [
      "0.1353221\n",
      "0.8000923\n"
     ]
    }
   ],
   "source": [
    "print(min(popularity))\n",
    "print(max(popularity))"
   ]
  },
  {
   "cell_type": "code",
   "execution_count": 35,
   "metadata": {},
   "outputs": [],
   "source": [
    "popularity = popularity + 0.3"
   ]
  },
  {
   "cell_type": "code",
   "execution_count": 40,
   "metadata": {},
   "outputs": [
    {
     "data": {
      "text/html": [
       "<div>\n",
       "<style scoped>\n",
       "    .dataframe tbody tr th:only-of-type {\n",
       "        vertical-align: middle;\n",
       "    }\n",
       "\n",
       "    .dataframe tbody tr th {\n",
       "        vertical-align: top;\n",
       "    }\n",
       "\n",
       "    .dataframe thead th {\n",
       "        text-align: right;\n",
       "    }\n",
       "</style>\n",
       "<table border=\"1\" class=\"dataframe\">\n",
       "  <thead>\n",
       "    <tr style=\"text-align: right;\">\n",
       "      <th></th>\n",
       "      <th>questionId</th>\n",
       "      <th>lite_score</th>\n",
       "      <th>sch_score</th>\n",
       "      <th>d2_score</th>\n",
       "      <th>oral_score</th>\n",
       "      <th>diffculty</th>\n",
       "      <th>popularity</th>\n",
       "    </tr>\n",
       "  </thead>\n",
       "  <tbody>\n",
       "    <tr>\n",
       "      <th>0</th>\n",
       "      <td>1</td>\n",
       "      <td>0.200000</td>\n",
       "      <td>0.900000</td>\n",
       "      <td>0.500000</td>\n",
       "      <td>0.200000</td>\n",
       "      <td>0.559645</td>\n",
       "      <td>0.335406</td>\n",
       "    </tr>\n",
       "    <tr>\n",
       "      <th>1</th>\n",
       "      <td>2</td>\n",
       "      <td>0.142857</td>\n",
       "      <td>0.857143</td>\n",
       "      <td>0.571429</td>\n",
       "      <td>0.142857</td>\n",
       "      <td>0.449437</td>\n",
       "      <td>0.439031</td>\n",
       "    </tr>\n",
       "    <tr>\n",
       "      <th>2</th>\n",
       "      <td>3</td>\n",
       "      <td>0.208333</td>\n",
       "      <td>0.875000</td>\n",
       "      <td>0.541667</td>\n",
       "      <td>0.100000</td>\n",
       "      <td>0.408112</td>\n",
       "      <td>0.345218</td>\n",
       "    </tr>\n",
       "    <tr>\n",
       "      <th>3</th>\n",
       "      <td>4</td>\n",
       "      <td>0.500000</td>\n",
       "      <td>0.750000</td>\n",
       "      <td>0.250000</td>\n",
       "      <td>0.125000</td>\n",
       "      <td>0.532104</td>\n",
       "      <td>0.660025</td>\n",
       "    </tr>\n",
       "    <tr>\n",
       "      <th>4</th>\n",
       "      <td>5</td>\n",
       "      <td>0.111111</td>\n",
       "      <td>0.777778</td>\n",
       "      <td>0.666667</td>\n",
       "      <td>0.333333</td>\n",
       "      <td>0.467431</td>\n",
       "      <td>0.374785</td>\n",
       "    </tr>\n",
       "    <tr>\n",
       "      <th>...</th>\n",
       "      <td>...</td>\n",
       "      <td>...</td>\n",
       "      <td>...</td>\n",
       "      <td>...</td>\n",
       "      <td>...</td>\n",
       "      <td>...</td>\n",
       "      <td>...</td>\n",
       "    </tr>\n",
       "    <tr>\n",
       "      <th>1152</th>\n",
       "      <td>1622</td>\n",
       "      <td>0.161290</td>\n",
       "      <td>0.677419</td>\n",
       "      <td>0.129032</td>\n",
       "      <td>0.419355</td>\n",
       "      <td>0.498648</td>\n",
       "      <td>0.441616</td>\n",
       "    </tr>\n",
       "    <tr>\n",
       "      <th>1153</th>\n",
       "      <td>1626</td>\n",
       "      <td>0.142857</td>\n",
       "      <td>0.785714</td>\n",
       "      <td>0.428571</td>\n",
       "      <td>0.100000</td>\n",
       "      <td>0.657149</td>\n",
       "      <td>0.414235</td>\n",
       "    </tr>\n",
       "    <tr>\n",
       "      <th>1154</th>\n",
       "      <td>1627</td>\n",
       "      <td>0.183673</td>\n",
       "      <td>0.530612</td>\n",
       "      <td>0.448980</td>\n",
       "      <td>0.142857</td>\n",
       "      <td>0.452381</td>\n",
       "      <td>0.423127</td>\n",
       "    </tr>\n",
       "    <tr>\n",
       "      <th>1155</th>\n",
       "      <td>1628</td>\n",
       "      <td>0.200000</td>\n",
       "      <td>0.500000</td>\n",
       "      <td>0.400000</td>\n",
       "      <td>0.100000</td>\n",
       "      <td>0.525563</td>\n",
       "      <td>0.477073</td>\n",
       "    </tr>\n",
       "    <tr>\n",
       "      <th>1156</th>\n",
       "      <td>1629</td>\n",
       "      <td>0.117647</td>\n",
       "      <td>0.882353</td>\n",
       "      <td>0.176471</td>\n",
       "      <td>0.294118</td>\n",
       "      <td>0.544959</td>\n",
       "      <td>0.496760</td>\n",
       "    </tr>\n",
       "  </tbody>\n",
       "</table>\n",
       "<p>1157 rows × 7 columns</p>\n",
       "</div>"
      ],
      "text/plain": [
       "      questionId  lite_score  sch_score  d2_score  oral_score  diffculty  \\\n",
       "0              1    0.200000   0.900000  0.500000    0.200000   0.559645   \n",
       "1              2    0.142857   0.857143  0.571429    0.142857   0.449437   \n",
       "2              3    0.208333   0.875000  0.541667    0.100000   0.408112   \n",
       "3              4    0.500000   0.750000  0.250000    0.125000   0.532104   \n",
       "4              5    0.111111   0.777778  0.666667    0.333333   0.467431   \n",
       "...          ...         ...        ...       ...         ...        ...   \n",
       "1152        1622    0.161290   0.677419  0.129032    0.419355   0.498648   \n",
       "1153        1626    0.142857   0.785714  0.428571    0.100000   0.657149   \n",
       "1154        1627    0.183673   0.530612  0.448980    0.142857   0.452381   \n",
       "1155        1628    0.200000   0.500000  0.400000    0.100000   0.525563   \n",
       "1156        1629    0.117647   0.882353  0.176471    0.294118   0.544959   \n",
       "\n",
       "      popularity  \n",
       "0       0.335406  \n",
       "1       0.439031  \n",
       "2       0.345218  \n",
       "3       0.660025  \n",
       "4       0.374785  \n",
       "...          ...  \n",
       "1152    0.441616  \n",
       "1153    0.414235  \n",
       "1154    0.423127  \n",
       "1155    0.477073  \n",
       "1156    0.496760  \n",
       "\n",
       "[1157 rows x 7 columns]"
      ]
     },
     "execution_count": 40,
     "metadata": {},
     "output_type": "execute_result"
    }
   ],
   "source": [
    "result_df = pd.read_csv(os.path.join(DATADIR, 'leetcode_result.csv'), nrows=100000)\n",
    "\n",
    "result_df"
   ]
  },
  {
   "cell_type": "code",
   "execution_count": 38,
   "metadata": {},
   "outputs": [
    {
     "data": {
      "text/html": [
       "<div>\n",
       "<style scoped>\n",
       "    .dataframe tbody tr th:only-of-type {\n",
       "        vertical-align: middle;\n",
       "    }\n",
       "\n",
       "    .dataframe tbody tr th {\n",
       "        vertical-align: top;\n",
       "    }\n",
       "\n",
       "    .dataframe thead th {\n",
       "        text-align: right;\n",
       "    }\n",
       "</style>\n",
       "<table border=\"1\" class=\"dataframe\">\n",
       "  <thead>\n",
       "    <tr style=\"text-align: right;\">\n",
       "      <th></th>\n",
       "      <th>questionId</th>\n",
       "      <th>lite_score</th>\n",
       "      <th>sch_score</th>\n",
       "      <th>d2_score</th>\n",
       "      <th>oral_score</th>\n",
       "      <th>diffculty</th>\n",
       "      <th>popularity</th>\n",
       "    </tr>\n",
       "  </thead>\n",
       "  <tbody>\n",
       "    <tr>\n",
       "      <th>0</th>\n",
       "      <td>1</td>\n",
       "      <td>0.200000</td>\n",
       "      <td>0.900000</td>\n",
       "      <td>0.500000</td>\n",
       "      <td>0.200000</td>\n",
       "      <td>0.559645</td>\n",
       "      <td>0.335406</td>\n",
       "    </tr>\n",
       "    <tr>\n",
       "      <th>1</th>\n",
       "      <td>2</td>\n",
       "      <td>0.142857</td>\n",
       "      <td>0.857143</td>\n",
       "      <td>0.571429</td>\n",
       "      <td>0.142857</td>\n",
       "      <td>0.449437</td>\n",
       "      <td>0.439031</td>\n",
       "    </tr>\n",
       "    <tr>\n",
       "      <th>2</th>\n",
       "      <td>3</td>\n",
       "      <td>0.208333</td>\n",
       "      <td>0.875000</td>\n",
       "      <td>0.541667</td>\n",
       "      <td>0.100000</td>\n",
       "      <td>0.408112</td>\n",
       "      <td>0.345218</td>\n",
       "    </tr>\n",
       "    <tr>\n",
       "      <th>3</th>\n",
       "      <td>4</td>\n",
       "      <td>0.500000</td>\n",
       "      <td>0.750000</td>\n",
       "      <td>0.250000</td>\n",
       "      <td>0.125000</td>\n",
       "      <td>0.532104</td>\n",
       "      <td>0.660025</td>\n",
       "    </tr>\n",
       "    <tr>\n",
       "      <th>4</th>\n",
       "      <td>5</td>\n",
       "      <td>0.111111</td>\n",
       "      <td>0.777778</td>\n",
       "      <td>0.666667</td>\n",
       "      <td>0.333333</td>\n",
       "      <td>0.467431</td>\n",
       "      <td>0.374785</td>\n",
       "    </tr>\n",
       "    <tr>\n",
       "      <th>...</th>\n",
       "      <td>...</td>\n",
       "      <td>...</td>\n",
       "      <td>...</td>\n",
       "      <td>...</td>\n",
       "      <td>...</td>\n",
       "      <td>...</td>\n",
       "      <td>...</td>\n",
       "    </tr>\n",
       "    <tr>\n",
       "      <th>1152</th>\n",
       "      <td>1622</td>\n",
       "      <td>0.161290</td>\n",
       "      <td>0.677419</td>\n",
       "      <td>0.129032</td>\n",
       "      <td>0.419355</td>\n",
       "      <td>0.498648</td>\n",
       "      <td>0.441616</td>\n",
       "    </tr>\n",
       "    <tr>\n",
       "      <th>1153</th>\n",
       "      <td>1626</td>\n",
       "      <td>0.142857</td>\n",
       "      <td>0.785714</td>\n",
       "      <td>0.428571</td>\n",
       "      <td>0.100000</td>\n",
       "      <td>0.657149</td>\n",
       "      <td>0.414234</td>\n",
       "    </tr>\n",
       "    <tr>\n",
       "      <th>1154</th>\n",
       "      <td>1627</td>\n",
       "      <td>0.183673</td>\n",
       "      <td>0.530612</td>\n",
       "      <td>0.448980</td>\n",
       "      <td>0.142857</td>\n",
       "      <td>0.452381</td>\n",
       "      <td>0.423127</td>\n",
       "    </tr>\n",
       "    <tr>\n",
       "      <th>1155</th>\n",
       "      <td>1628</td>\n",
       "      <td>0.200000</td>\n",
       "      <td>0.500000</td>\n",
       "      <td>0.400000</td>\n",
       "      <td>0.100000</td>\n",
       "      <td>0.525563</td>\n",
       "      <td>0.477073</td>\n",
       "    </tr>\n",
       "    <tr>\n",
       "      <th>1156</th>\n",
       "      <td>1629</td>\n",
       "      <td>0.117647</td>\n",
       "      <td>0.882353</td>\n",
       "      <td>0.176471</td>\n",
       "      <td>0.294118</td>\n",
       "      <td>0.544959</td>\n",
       "      <td>0.496760</td>\n",
       "    </tr>\n",
       "  </tbody>\n",
       "</table>\n",
       "<p>1157 rows × 7 columns</p>\n",
       "</div>"
      ],
      "text/plain": [
       "      questionId  lite_score  sch_score  d2_score  oral_score  diffculty  \\\n",
       "0              1    0.200000   0.900000  0.500000    0.200000   0.559645   \n",
       "1              2    0.142857   0.857143  0.571429    0.142857   0.449437   \n",
       "2              3    0.208333   0.875000  0.541667    0.100000   0.408112   \n",
       "3              4    0.500000   0.750000  0.250000    0.125000   0.532104   \n",
       "4              5    0.111111   0.777778  0.666667    0.333333   0.467431   \n",
       "...          ...         ...        ...       ...         ...        ...   \n",
       "1152        1622    0.161290   0.677419  0.129032    0.419355   0.498648   \n",
       "1153        1626    0.142857   0.785714  0.428571    0.100000   0.657149   \n",
       "1154        1627    0.183673   0.530612  0.448980    0.142857   0.452381   \n",
       "1155        1628    0.200000   0.500000  0.400000    0.100000   0.525563   \n",
       "1156        1629    0.117647   0.882353  0.176471    0.294118   0.544959   \n",
       "\n",
       "      popularity  \n",
       "0       0.335406  \n",
       "1       0.439031  \n",
       "2       0.345218  \n",
       "3       0.660025  \n",
       "4       0.374785  \n",
       "...          ...  \n",
       "1152    0.441616  \n",
       "1153    0.414234  \n",
       "1154    0.423127  \n",
       "1155    0.477073  \n",
       "1156    0.496760  \n",
       "\n",
       "[1157 rows x 7 columns]"
      ]
     },
     "execution_count": 38,
     "metadata": {},
     "output_type": "execute_result"
    }
   ],
   "source": [
    "result_df['popularity'] = popularity\n",
    "\n",
    "result_df"
   ]
  },
  {
   "cell_type": "code",
   "execution_count": 39,
   "metadata": {},
   "outputs": [],
   "source": [
    "result_df.to_csv(os.path.join(DATADIR, 'leetcode_result.csv'),index=0)"
   ]
  }
 ],
 "metadata": {
  "kernelspec": {
   "display_name": "py36",
   "language": "python",
   "name": "py36"
  },
  "language_info": {
   "codemirror_mode": {
    "name": "ipython",
    "version": 3
   },
   "file_extension": ".py",
   "mimetype": "text/x-python",
   "name": "python",
   "nbconvert_exporter": "python",
   "pygments_lexer": "ipython3",
   "version": "3.6.10"
  }
 },
 "nbformat": 4,
 "nbformat_minor": 4
}