{
 "cells": [
  {
   "cell_type": "code",
   "execution_count": 1,
   "metadata": {},
   "outputs": [],
   "source": [
    "import os\n",
    "import pandas as pd\n",
    "import nltk\n",
    "from collections import Counter\n",
    "\n",
    "ROOTDIR = os.path.abspath(os.path.abspath(os.path.join(os.getcwd(), \"..\")))\n",
    "DATADIR = os.path.join(ROOTDIR, 'data')\n",
    "MODELDIR = os.path.join(ROOTDIR, 'model')"
   ]
  },
  {
   "cell_type": "code",
   "execution_count": 2,
   "metadata": {},
   "outputs": [
    {
     "data": {
      "text/plain": [
       "0       Given an array of integers, return indices of ...\n",
       "1       You are given two non-empty linked lists repre...\n",
       "2       Given a string, find the length of the longest...\n",
       "3       There are two sorted arrays nums1 and nums2 of...\n",
       "4       Given a string s, find the longest palindromic...\n",
       "                              ...                        \n",
       "1152    Given an array points containing the coordinat...\n",
       "1153    Given an array of numbers arr. A sequence of n...\n",
       "1154    We have a wooden plank of the length n units. ...\n",
       "1155    Given a rows * columns matrix mat of ones and ...\n",
       "1156    Given a string num representing the digits of ...\n",
       "Name: content, Length: 1157, dtype: object"
      ]
     },
     "execution_count": 2,
     "metadata": {},
     "output_type": "execute_result"
    }
   ],
   "source": [
    "df = pd.read_csv(os.path.join(DATADIR, 'question.csv'), nrows=100000)\n",
    "texts = df.content\n",
    "\n",
    "texts\n",
    "\n",
    "#把句子变成词"
   ]
  },
  {
   "cell_type": "code",
   "execution_count": 3,
   "metadata": {},
   "outputs": [
    {
     "name": "stdout",
     "output_type": "stream",
     "text": [
      "Example question:\n",
      "   Raw: Given n non-negative integers a1, a2, ..., an , where each represents a point at coordinate (i, ai). n vertical lines are drawn such that the two endpoints of line i is at (i, ai) and (i, 0). Find two lines, which together with x-axis forms a container, such that the container contains the most water.\r\n",
      "\r\n",
      "Note: You may not slant the container and n is at least 2.\r\n",
      "\r\n",
      " \r\n",
      "\r\n",
      "\r\n",
      "\r\n",
      "The above vertical lines are represented by array [1,8,6,2,5,4,8,3,7]. In this case, the max area of water (blue section) the container can contain is 49. \r\n",
      "\r\n",
      " \r\n",
      "\r\n",
      "Example:\r\n",
      "\r\n",
      "\r\n",
      "Input: [1,8,6,2,5,4,8,3,7]\r\n",
      "Output: 49 \n",
      "\n",
      "   Tokenized: ['Given', 'n', 'non-negative', 'integers', 'a1', ',', 'a2', ',', '...', ',', 'an', ',', 'where', 'each', 'represents', 'a', 'point', 'at', 'coordinate', '(', 'i', ',', 'ai', ')', '.', 'n', 'vertical', 'lines', 'are', 'drawn', 'such', 'that', 'the', 'two', 'endpoints', 'of', 'line', 'i', 'is', 'at', '(', 'i', ',', 'ai', ')', 'and', '(', 'i', ',', '0', ')', '.', 'Find', 'two', 'lines', ',', 'which', 'together', 'with', 'x-axis', 'forms', 'a', 'container', ',', 'such', 'that', 'the', 'container', 'contains', 'the', 'most', 'water', '.', 'Note', ':', 'You', 'may', 'not', 'slant', 'the', 'container', 'and', 'n', 'is', 'at', 'least', '2', '.', 'The', 'above', 'vertical', 'lines', 'are', 'represented', 'by', 'array', '[', '1,8,6,2,5,4,8,3,7', ']', '.', 'In', 'this', 'case', ',', 'the', 'max', 'area', 'of', 'water', '(', 'blue', 'section', ')', 'the', 'container', 'can', 'contain', 'is', '49', '.', 'Example', ':', 'Input', ':', '[', '1,8,6,2,5,4,8,3,7', ']', 'Output', ':', '49']\n"
     ]
    }
   ],
   "source": [
    "tokenized = [nltk.word_tokenize(question) for question in texts]\n",
    "\n",
    "n = 10 #arbitrary pick\n",
    "print('Example question:\\n   Raw: {} \\n\\n   Tokenized: {}'.format(texts[n], [i for i in tokenized[n]]))"
   ]
  },
  {
   "cell_type": "code",
   "execution_count": 4,
   "metadata": {},
   "outputs": [
    {
     "name": "stdout",
     "output_type": "stream",
     "text": [
      " 1.    ,  freq:   15039\n",
      " 2.    :  freq:   11086\n",
      " 3.  the  freq:    9186\n",
      " 4.    [  freq:    8519\n",
      " 5.    ]  freq:    8501\n",
      " 6.    .  freq:    8350\n",
      " 7.    =  freq:    6760\n",
      " 8.   ''  freq:    6620\n",
      " 9.    1  freq:    4711\n",
      "10.    a  freq:    4201\n"
     ]
    }
   ],
   "source": [
    "#Note that we convert all tokens to lower case, otherwise words like *The* and *the* are different tokens.\n",
    "token_counter = Counter(token.lower() for sentence in tokenized for token in sentence)\n",
    "top10 = token_counter.most_common()[:10]\n",
    "for i, t in enumerate(top10):\n",
    "    print('{:>2}.{:>5}  freq: {:>7}'.format(i+1, t[0], t[1]))"
   ]
  },
  {
   "cell_type": "code",
   "execution_count": 5,
   "metadata": {},
   "outputs": [
    {
     "name": "stdout",
     "output_type": "stream",
     "text": [
      "before:\t 9481\n",
      "after:\t 3484\n"
     ]
    }
   ],
   "source": [
    "#删除字典中只出现一次的词\n",
    "from gensim import corpora\n",
    "\n",
    "# Create a dictionary from list of documents in order to create BOW model\n",
    "dictionary = corpora.Dictionary(tokenized)\n",
    "print ('before:\\t',len(dictionary))\n",
    "only_once_key=[]\n",
    "for key in dictionary.iterkeys():\n",
    "    if dictionary.dfs[key]==1:\n",
    "        only_once_key.append(key)\n",
    "dictionary.filter_tokens(bad_ids=only_once_key)\n",
    "print ('after:\\t',len(dictionary))\n",
    "\n",
    "dictionary.save(MODELDIR + '/question.dict')"
   ]
  },
  {
   "cell_type": "code",
   "execution_count": 6,
   "metadata": {},
   "outputs": [],
   "source": [
    "#删除字典中只出现一次的词\n",
    "frequent_tokenized = []\n",
    "for sentence in tokenized:\n",
    "    ind_list = dictionary.doc2idx(sentence)\n",
    "    words = []\n",
    "    for i,ind in enumerate(ind_list):\n",
    "        if ind != -1:\n",
    "            words.append(sentence[i])\n",
    "    frequent_tokenized.append(words)"
   ]
  },
  {
   "cell_type": "code",
   "execution_count": 7,
   "metadata": {},
   "outputs": [
    {
     "name": "stdout",
     "output_type": "stream",
     "text": [
      "raw:\t 250010\n",
      "freq:\t 239256\n"
     ]
    }
   ],
   "source": [
    "print('raw:\\t',sum([len(i) for i in tokenized]))\n",
    "print('freq:\\t',sum([len(i) for i in frequent_tokenized]))"
   ]
  },
  {
   "cell_type": "code",
   "execution_count": 8,
   "metadata": {},
   "outputs": [
    {
     "name": "stderr",
     "output_type": "stream",
     "text": [
      "100%|████████████████████████████████████████████████████████████████████████████| 1157/1157 [00:00<00:00, 2192.96it/s]\n"
     ]
    }
   ],
   "source": [
    "#删除形容词和标点符号\n",
    "from nltk.corpus import stopwords\n",
    "from string import punctuation\n",
    "from itertools import chain\n",
    "from tqdm import tqdm\n",
    "\n",
    "def clean_text(tokenized_list, sw, punct):\n",
    "    new_list = []\n",
    "    for doc in tqdm(tokenized_list):\n",
    "        new_list.append([token.lower() for token in doc if token.lower() not in chain(punct, sw)])\n",
    "    return new_list\n",
    "\n",
    "# Remove punctuations and stopwords, and lower-case text\n",
    "sw = stopwords.words('english')\n",
    "punct = ' \\n'+'!\"#%&\\'()*+,-./:;<=>?@[\\\\]^_`{|}~'\n",
    "cleaned = clean_text(frequent_tokenized, sw, punct)"
   ]
  },
  {
   "cell_type": "code",
   "execution_count": 9,
   "metadata": {},
   "outputs": [
    {
     "name": "stderr",
     "output_type": "stream",
     "text": [
      "100%|█████████████████████████████████████████████████████████████████████████| 98552/98552 [00:06<00:00, 14579.16it/s]\n",
      "100%|█████████████████████████████████████████████████████████████████████████| 25728/25728 [00:00<00:00, 27733.87it/s]\n",
      "100%|█████████████████████████████████████████████████████████████████████████| 57340/57340 [00:02<00:00, 20869.85it/s]\n"
     ]
    }
   ],
   "source": [
    "#整合其他来源文本\n",
    "from nltk.corpus import gutenberg\n",
    "from nltk.corpus import webtext\n",
    "from nltk.corpus import brown\n",
    "\n",
    "cleaned_gutenberg = clean_text(gutenberg.sents(), [], punct)\n",
    "cleaned_webtext = clean_text(webtext.sents(), [], punct)\n",
    "cleaned_brown = clean_text(brown.sents(), [], punct)\n",
    "\n",
    "all_text_data = cleaned +  cleaned_gutenberg + cleaned_webtext + cleaned_brown"
   ]
  },
  {
   "cell_type": "code",
   "execution_count": 10,
   "metadata": {},
   "outputs": [],
   "source": [
    "#单词转化向量（浮点数）（训练）\n",
    "from gensim import models\n",
    "\n",
    "w2v_model = models.Word2Vec(all_text_data,\n",
    "                        size = 300,\n",
    "                        window = 5,\n",
    "                        min_count = 1,\n",
    "                        sg = 0,\n",
    "                        alpha = 0.025,\n",
    "                        iter=10,\n",
    "                        batch_words = 10000)"
   ]
  },
  {
   "cell_type": "code",
   "execution_count": 11,
   "metadata": {},
   "outputs": [],
   "source": [
    "w2v_model.save(MODELDIR + \"/word2vec.model\")"
   ]
  },
  {
   "cell_type": "code",
   "execution_count": 12,
   "metadata": {
    "pycharm": {
     "name": "#%%\n"
    }
   },
   "outputs": [
    {
     "data": {
      "text/plain": [
       "[('certificate', 0.8047553300857544),\n",
       " ('ms', 0.7994484305381775),\n",
       " ('server', 0.7980078458786011),\n",
       " ('banking', 0.7971575856208801),\n",
       " ('ssl', 0.7907871007919312),\n",
       " ('zip', 0.7845491766929626),\n",
       " ('launches', 0.7805339097976685),\n",
       " ('user', 0.7802754640579224),\n",
       " ('helper', 0.7794123888015747),\n",
       " ('downloading', 0.777411162853241)]"
      ]
     },
     "execution_count": 12,
     "metadata": {},
     "output_type": "execute_result"
    }
   ],
   "source": [
    "#离搜索词最近的词极其向量\n",
    "w2v_model.wv.most_similar(positive=['computer'])"
   ]
  },
  {
   "cell_type": "code",
   "execution_count": 13,
   "metadata": {},
   "outputs": [
    {
     "data": {
      "text/plain": [
       "[('unaltered', 0.44433915615081787),\n",
       " ('effecte', 0.44216883182525635),\n",
       " ('miss', 0.42859601974487305),\n",
       " ('costliness', 0.42665207386016846),\n",
       " ('vnmaske', 0.4260025918483734),\n",
       " ('cherisheth', 0.420838862657547),\n",
       " ('rechurned', 0.4148135781288147),\n",
       " ('grandam', 0.41218680143356323),\n",
       " ('oilman-rancher', 0.4106166362762451),\n",
       " ('sweet-throated', 0.40882742404937744)]"
      ]
     },
     "execution_count": 13,
     "metadata": {},
     "output_type": "execute_result"
    }
   ],
   "source": [
    "w2v_model.wv.most_similar(positive=['she','her','hers','herself'], negative=['he','him','his','himself'])"
   ]
  },
  {
   "cell_type": "code",
   "execution_count": 14,
   "metadata": {},
   "outputs": [],
   "source": [
    "#向量相似词绘图\n",
    "from sklearn.metrics import pairwise\n",
    "\n",
    "f_tokens = [token for token,weight in w2v_model.wv.most_similar(positive=['food'], topn=50)]\n",
    "vectors = [w2v_model.wv[word] for word in f_tokens]\n",
    "dist_matrix = pairwise.pairwise_distances(vectors, metric='cosine')"
   ]
  },
  {
   "cell_type": "code",
   "execution_count": 15,
   "metadata": {},
   "outputs": [],
   "source": [
    "#降维\n",
    "from sklearn.manifold import MDS\n",
    "mds = MDS(n_components = 2, dissimilarity='precomputed')\n",
    "embeddings = mds.fit_transform(dist_matrix)"
   ]
  },
  {
   "cell_type": "code",
   "execution_count": 16,
   "metadata": {},
   "outputs": [
    {
     "data": {
      "image/png": "[encoded data removed]",
      "text/plain": [
       "<Figure size 1008x720 with 1 Axes>"
      ]
     },
     "metadata": {
      "needs_background": "light"
     },
     "output_type": "display_data"
    }
   ],
   "source": [
    "import matplotlib.pyplot as plt\n",
    "%matplotlib inline\n",
    "\n",
    "\n",
    "_, ax = plt.subplots(figsize=(14,10))\n",
    "ax.scatter(embeddings[:,0], embeddings[:,1], alpha=0)\n",
    "for i in range(len(vectors)):\n",
    "    ax.annotate(f_tokens[i], ((embeddings[i,0], embeddings[i,1])))"
   ]
  },
  {
   "cell_type": "code",
   "execution_count": null,
   "outputs": [],
   "source": [
    "import numpy as np\n",
    "\n",
    "np.array(cleaned[0]).shape"
   ],
   "metadata": {
    "collapsed": false,
    "pycharm": {
     "name": "#%%\n"
    }
   }
  },
  {
   "cell_type": "code",
   "execution_count": null,
   "outputs": [],
   "source": [
    "w2v_model.wv[cleaned[0]].shape"
   ],
   "metadata": {
    "collapsed": false,
    "pycharm": {
     "name": "#%%\n"
    }
   }
  },
  {
   "cell_type": "code",
   "execution_count": null,
   "outputs": [],
   "source": [
    "w2v_model.wv[cleaned[0]].shape"
   ],
   "metadata": {
    "collapsed": false,
    "pycharm": {
     "name": "#%%\n"
    }
   }
  },
  {
   "cell_type": "code",
   "execution_count": null,
   "outputs": [],
   "source": [
    "w2v_model.wv[cleaned[0]].shape"
   ],
   "metadata": {
    "collapsed": false,
    "pycharm": {
     "name": "#%%\n"
    }
   }
  },
  {
   "cell_type": "code",
   "execution_count": null,
   "outputs": [],
   "source": [
    "w2v_model.wv[cleaned[0]].shape"
   ],
   "metadata": {
    "collapsed": false,
    "pycharm": {
     "name": "#%%\n"
    }
   }
  },
  {
   "cell_type": "code",
   "execution_count": null,
   "outputs": [],
   "source": [
    "w2v_model.wv[cleaned[0]].shape"
   ],
   "metadata": {
    "collapsed": false,
    "pycharm": {
     "name": "#%%\n"
    }
   }
  },
  {
   "cell_type": "code",
   "execution_count": 35,
   "metadata": {},
   "outputs": [
    {
     "data": {
      "text/plain": [
       "(40,)"
      ]
     },
     "execution_count": 35,
     "metadata": {},
     "output_type": "execute_result"
    }
   ],
   "source": [
    "w2v_model.wv[cleaned[0]].shape"
   ]
  },
  {
   "cell_type": "code",
   "execution_count": 37,
   "metadata": {},
   "outputs": [
    {
     "data": {
      "text/plain": [
       "(40, 300)"
      ]
     },
     "execution_count": 37,
     "metadata": {},
     "output_type": "execute_result"
    }
   ],
   "source": [
    "w2v_model.wv[cleaned[0]].shape"
   ]
  }
 ],
 "metadata": {
  "kernelspec": {
   "display_name": "py36",
   "language": "python",
   "name": "py36"
  },
  "language_info": {
   "codemirror_mode": {
    "name": "ipython",
    "version": 3
   },
   "file_extension": ".py",
   "mimetype": "text/x-python",
   "name": "python",
   "nbconvert_exporter": "python",
   "pygments_lexer": "ipython3",
   "version": "3.6.10"
  },
  "pycharm": {
   "stem_cell": {
    "cell_type": "raw",
    "source": [],
    "metadata": {
     "collapsed": false
    }
   }
  }
 },
 "nbformat": 4,
 "nbformat_minor": 4
}