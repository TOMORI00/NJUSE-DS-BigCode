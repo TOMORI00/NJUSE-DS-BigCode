{
 "cells": [
  {
   "cell_type": "code",
   "execution_count": 1,
   "metadata": {},
   "outputs": [],
   "source": [
    "# coding=utf-8\n",
    "\n",
    "import os\n",
    "import pandas as pd\n",
    "import nltk\n",
    "from collections import Counter\n",
    "\n",
    "ROOTDIR = os.path.abspath(os.path.abspath(os.path.join(os.getcwd(), \"..\")))\n",
    "DATADIR = os.path.join(ROOTDIR, 'data')\n",
    "MODELDIR = os.path.join(ROOTDIR, 'model')"
   ]
  },
  {
   "cell_type": "code",
   "execution_count": 2,
   "metadata": {},
   "outputs": [
    {
     "data": {
      "text/plain": [
       "0       给定一个整数数组 nums 和一个目标值 target，请你在该数组中找出和为目标值的那 两...\n",
       "1       给出两个 非空 的链表用来表示两个非负的整数。其中，它们各自的位数是按照 逆序 的方式存储的...\n",
       "2       给定一个字符串，请你找出其中不含有重复字符的 最长子串 的长度。\\n示例 1:\\n输入: \"...\n",
       "3       给定两个大小为 m 和 n 的正序（从小到大）数组 nums1 和 nums2。\\n请你找出...\n",
       "4       给定一个字符串 s，找到 s 中最长的回文子串。你可以假设 s 的最大长度为 1000。\\n...\n",
       "                              ...                        \n",
       "1152    给你一个数组 points 和一个整数 k 。数组中每个元素都表示二维平面上的点的坐标，并按...\n",
       "1153    给你一个数字数组 arr 。\\n如果一个数列中，任意相邻两项的差总等于同一个常数，那么这个数...\n",
       "1154    有一块木板，长度为 n 个 单位 。一些蚂蚁在木板上移动，每只蚂蚁都以 每秒一个单位 的速度...\n",
       "1155    给你一个只包含 0 和 1 的 rows * columns 矩阵 mat ，请你返回有多少...\n",
       "1156    给你一个字符串 num 和一个整数 k 。其中，num 表示一个很大的整数，字符串中的每个字...\n",
       "Name: translatedContent, Length: 1157, dtype: object"
      ]
     },
     "execution_count": 2,
     "metadata": {},
     "output_type": "execute_result"
    }
   ],
   "source": [
    "df = pd.read_csv(os.path.join(DATADIR, 'question.csv'), nrows=100000)\n",
    "texts = df.translatedContent\n",
    "\n",
    "texts"
   ]
  },
  {
   "cell_type": "code",
   "execution_count": 3,
   "metadata": {},
   "outputs": [
    {
     "name": "stderr",
     "output_type": "stream",
     "text": [
      "Building prefix dict from the default dictionary ...\n",
      "Loading model from cache C:\\Users\\frank\\AppData\\Local\\Temp\\jieba.cache\n",
      "Loading model cost 0.502 seconds.\n",
      "Prefix dict has been built successfully.\n"
     ]
    },
    {
     "name": "stdout",
     "output_type": "stream",
     "text": [
      "['给定', '一个', '整数', '数组', ' ', 'nums', ' ', '和', '一个', '目标值', ' ', 'target', '，', '请', '你', '在', '该', '数组', '中', '找出', '和', '为', '目标值', '的', '那', ' ', '两个', ' ', '整数', '，', '并', '返回', '他们', '的', '数组', '下标', '。', '\\n', '你', '可以', '假设', '每种', '输入', '只', '会', '对应', '一个', '答案', '。', '但是', '，', '数组', '中', '同一个', '元素', '不能', '使用', '两遍', '。', '\\n', ' ', '\\n', '示例', ':', '\\n', '给定', ' ', 'nums', ' ', '=', ' ', '[', '2', ',', ' ', '7', ',', ' ', '11', ',', ' ', '15', ']', ',', ' ', 'target', ' ', '=', ' ', '9', '\\n', '因为', ' ', 'nums', '[', '0', ']', ' ', '+', ' ', 'nums', '[', '1', ']', ' ', '=', ' ', '2', ' ', '+', ' ', '7', ' ', '=', ' ', '9', '\\n', '所以', '返回', ' ', '[', '0', ',', ' ', '1', ']', '\\n']\n"
     ]
    }
   ],
   "source": [
    "#分词\n",
    "import jieba\n",
    "\n",
    "seg_list = jieba.cut(texts[0], HMM=False)\n",
    "print(list(seg_list))"
   ]
  },
  {
   "cell_type": "code",
   "execution_count": 4,
   "metadata": {},
   "outputs": [
    {
     "name": "stdout",
     "output_type": "stream",
     "text": [
      "Example question:\n",
      "   Raw: 给你 n 个非负整数 a1，a2，...，an，每个数代表坐标中的一个点 (i, ai) 。在坐标内画 n 条垂直线，垂直线 i 的两个端点分别为 (i, ai) 和 (i, 0)。找出其中的两条线，使得它们与 x 轴共同构成的容器可以容纳最多的水。\n",
      "说明：你不能倾斜容器，且 n 的值至少为 2。\n",
      " \n",
      "图中垂直线代表输入数组 [1,8,6,2,5,4,8,3,7]。在此情况下，容器能够容纳水（表示为蓝色部分）的最大值为 49。\n",
      " \n",
      "示例：\n",
      "输入：[1,8,6,2,5,4,8,3,7]\n",
      "输出：49\n",
      " \n",
      "\n",
      "   Tokenized: ['给', '你', ' ', 'n', ' ', '个', '非', '负', '整数', ' ', 'a1', '，', 'a2', '，', '.', '.', '.', '，', 'an', '，', '每个', '数', '代表', '坐标', '中', '的', '一个点', ' ', '(', 'i', ',', ' ', 'ai', ')', ' ', '。', '在', '坐标', '内', '画', ' ', 'n', ' ', '条', '垂直线', '，', '垂直线', ' ', 'i', ' ', '的', '两个', '端点', '分别', '为', ' ', '(', 'i', ',', ' ', 'ai', ')', ' ', '和', ' ', '(', 'i', ',', ' ', '0', ')', '。', '找出', '其中', '的', '两条线', '，', '使得', '它们', '与', ' ', 'x', ' ', '轴', '共同', '构成', '的', '容器', '可以', '容纳', '最', '多', '的', '水', '。', '\\n', '说明', '：', '你', '不能', '倾斜', '容器', '，', '且', ' ', 'n', ' ', '的', '值', '至少', '为', ' ', '2', '。', '\\n', ' ', '\\n', '图', '中', '垂直线', '代表', '输入', '数组', ' ', '[', '1', ',', '8', ',', '6', ',', '2', ',', '5', ',', '4', ',', '8', ',', '3', ',', '7', ']', '。', '在', '此', '情况', '下', '，', '容器', '能够', '容纳', '水', '（', '表示', '为', '蓝色', '部分', '）', '的', '最大值', '为', ' ', '49', '。', '\\n', ' ', '\\n', '示例', '：', '\\n', '输入', '：', '[', '1', ',', '8', ',', '6', ',', '2', ',', '5', ',', '4', ',', '8', ',', '3', ',', '7', ']', '\\n', '输出', '：', '49', '\\n']\n"
     ]
    }
   ],
   "source": [
    "#分词\n",
    "import jieba\n",
    "\n",
    "tokenized = [list(jieba.cut(question, HMM=False)) for question in texts]\n",
    "\n",
    "n = 10 #arbitrary pick\n",
    "print('Example question:\\n   Raw: {} \\n\\n   Tokenized: {}'.format(texts[n], [i for i in tokenized[n]]))"
   ]
  },
  {
   "cell_type": "code",
   "execution_count": 5,
   "metadata": {},
   "outputs": [
    {
     "name": "stdout",
     "output_type": "stream",
     "text": [
      "before:\t 7122\n",
      "after:\t 3103\n"
     ]
    }
   ],
   "source": [
    "#筛选\n",
    "from gensim import corpora\n",
    "\n",
    "# Create a dictionary from list of documents in order to create BOW model\n",
    "dictionary = corpora.Dictionary(tokenized)\n",
    "print ('before:\\t',len(dictionary))\n",
    "only_once_key=[]\n",
    "for key in dictionary.iterkeys():\n",
    "    if dictionary.dfs[key]==1:\n",
    "        only_once_key.append(key)\n",
    "dictionary.filter_tokens(bad_ids=only_once_key)\n",
    "print ('after:\\t',len(dictionary))\n",
    "\n",
    "dictionary.save(MODELDIR + '/question_zh.dict')"
   ]
  },
  {
   "cell_type": "code",
   "execution_count": 6,
   "metadata": {},
   "outputs": [],
   "source": [
    "frequent_tokenized = []\n",
    "for sentence in tokenized:\n",
    "    ind_list = dictionary.doc2idx(sentence)\n",
    "    words = []\n",
    "    for i,ind in enumerate(ind_list):\n",
    "        if ind != -1:\n",
    "            words.append(sentence[i])\n",
    "    frequent_tokenized.append(words)"
   ]
  },
  {
   "cell_type": "code",
   "execution_count": 7,
   "metadata": {},
   "outputs": [
    {
     "data": {
      "text/plain": [
       "['给定',\n",
       " '一个',\n",
       " '整数',\n",
       " '数组',\n",
       " ' ',\n",
       " 'nums',\n",
       " ' ',\n",
       " '和',\n",
       " '一个',\n",
       " '目标值',\n",
       " ' ',\n",
       " 'target',\n",
       " '，',\n",
       " '请',\n",
       " '你',\n",
       " '在',\n",
       " '该',\n",
       " '数组',\n",
       " '中',\n",
       " '找出',\n",
       " '和',\n",
       " '为',\n",
       " '目标值',\n",
       " '的',\n",
       " '那',\n",
       " ' ',\n",
       " '两个',\n",
       " ' ',\n",
       " '整数',\n",
       " '，',\n",
       " '并',\n",
       " '返回',\n",
       " '他们',\n",
       " '的',\n",
       " '数组',\n",
       " '下标',\n",
       " '。',\n",
       " '\\n',\n",
       " '你',\n",
       " '可以',\n",
       " '假设',\n",
       " '每种',\n",
       " '输入',\n",
       " '只',\n",
       " '会',\n",
       " '对应',\n",
       " '一个',\n",
       " '答案',\n",
       " '。',\n",
       " '但是',\n",
       " '，',\n",
       " '数组',\n",
       " '中',\n",
       " '同一个',\n",
       " '元素',\n",
       " '不能',\n",
       " '使用',\n",
       " '两遍',\n",
       " '。',\n",
       " '\\n',\n",
       " ' ',\n",
       " '\\n',\n",
       " '示例',\n",
       " ':',\n",
       " '\\n',\n",
       " '给定',\n",
       " ' ',\n",
       " 'nums',\n",
       " ' ',\n",
       " '=',\n",
       " ' ',\n",
       " '[',\n",
       " '2',\n",
       " ',',\n",
       " ' ',\n",
       " '7',\n",
       " ',',\n",
       " ' ',\n",
       " '11',\n",
       " ',',\n",
       " ' ',\n",
       " '15',\n",
       " ']',\n",
       " ',',\n",
       " ' ',\n",
       " 'target',\n",
       " ' ',\n",
       " '=',\n",
       " ' ',\n",
       " '9',\n",
       " '\\n',\n",
       " '因为',\n",
       " ' ',\n",
       " 'nums',\n",
       " '[',\n",
       " '0',\n",
       " ']',\n",
       " ' ',\n",
       " '+',\n",
       " ' ',\n",
       " 'nums',\n",
       " '[',\n",
       " '1',\n",
       " ']',\n",
       " ' ',\n",
       " '=',\n",
       " ' ',\n",
       " '2',\n",
       " ' ',\n",
       " '+',\n",
       " ' ',\n",
       " '7',\n",
       " ' ',\n",
       " '=',\n",
       " ' ',\n",
       " '9',\n",
       " '\\n',\n",
       " '所以',\n",
       " '返回',\n",
       " ' ',\n",
       " '[',\n",
       " '0',\n",
       " ',',\n",
       " ' ',\n",
       " '1',\n",
       " ']',\n",
       " '\\n']"
      ]
     },
     "execution_count": 7,
     "metadata": {},
     "output_type": "execute_result"
    }
   ],
   "source": [
    "frequent_tokenized[0]"
   ]
  },
  {
   "cell_type": "code",
   "execution_count": 8,
   "metadata": {},
   "outputs": [
    {
     "name": "stdout",
     "output_type": "stream",
     "text": [
      "raw:\t 371345\n",
      "freq:\t 361716\n"
     ]
    }
   ],
   "source": [
    "print('raw:\\t',sum([len(i) for i in tokenized]))\n",
    "print('freq:\\t',sum([len(i) for i in frequent_tokenized]))"
   ]
  },
  {
   "cell_type": "code",
   "execution_count": 9,
   "metadata": {},
   "outputs": [
    {
     "name": "stderr",
     "output_type": "stream",
     "text": [
      "100%|█████████████████████████████████████████████████████████████████████████████| 1157/1157 [00:02<00:00, 578.05it/s]\n"
     ]
    }
   ],
   "source": [
    "#删除标点\n",
    "from itertools import chain\n",
    "from nltk.corpus import framenet\n",
    "from string import punctuation\n",
    "from tqdm import tqdm\n",
    "\n",
    "def clean_text(tokenized_list, sw, punct):\n",
    "    new_list = []\n",
    "    for doc in tqdm(tokenized_list):\n",
    "        new_list.append([token.lower() for token in doc if token.lower() not in chain(punct, sw)])\n",
    "    return new_list\n",
    "\n",
    "# Remove punctuations and stopwords, and lower-case text\n",
    "punct =  '《》，。？/：；‘’“”{}【】、|—·！~ \\n'+'!\"#%&\\'()*+,-./:;<=>?@[\\\\]^_`{|}~'\n",
    "sw = []\n",
    "with open (DATADIR + \"/cn_stopwords.txt\", 'r', encoding='utf8') as f:\n",
    "    sw = f.read().split('\\n')\n",
    "cleaned = clean_text(frequent_tokenized, sw, punct)"
   ]
  },
  {
   "cell_type": "code",
   "execution_count": 10,
   "metadata": {},
   "outputs": [
    {
     "name": "stderr",
     "output_type": "stream",
     "text": [
      "100%|████████████████████████████████████████████████████████████████████████████████| 100/100 [01:18<00:00,  1.27it/s]\n"
     ]
    }
   ],
   "source": [
    "#加载维基资源\n",
    "import json\n",
    "\n",
    "wiki_file_path = DATADIR  + '\\wiki_zh'\n",
    "wiki_corpus = []\n",
    "for file in tqdm(os.listdir(wiki_file_path)):\n",
    "    with open(wiki_file_path+ '\\\\' + file, 'r', encoding='utf8') as f:\n",
    "        for line in f.readlines():\n",
    "            sentences = []\n",
    "            paragraphs = json.loads(line)['text'].split('\\n\\n')[1:]\n",
    "            for paragraph in paragraphs:\n",
    "                if paragraph == ' ' or paragraph == '' or paragraph == '\\n':\n",
    "                    break\n",
    "                wiki_corpus.append(list(jieba.cut(paragraph, HMM=False)))"
   ]
  },
  {
   "cell_type": "code",
   "execution_count": 11,
   "metadata": {},
   "outputs": [
    {
     "data": {
      "text/plain": [
       "225315"
      ]
     },
     "execution_count": 11,
     "metadata": {},
     "output_type": "execute_result"
    }
   ],
   "source": [
    "len(wiki_corpus)"
   ]
  },
  {
   "cell_type": "code",
   "execution_count": 12,
   "metadata": {},
   "outputs": [
    {
     "name": "stderr",
     "output_type": "stream",
     "text": [
      "100%|████████████████████████████████████████████████████████████████████████| 225315/225315 [00:32<00:00, 6876.96it/s]\n"
     ]
    }
   ],
   "source": [
    "all_text_data = cleaned +  clean_text(wiki_corpus, [], punct)\n",
    "del wiki_corpus"
   ]
  },
  {
   "cell_type": "code",
   "execution_count": 13,
   "metadata": {},
   "outputs": [],
   "source": [
    "from gensim import models\n",
    "\n",
    "w2v_model = models.Word2Vec(all_text_data,\n",
    "                        size = 300,\n",
    "                        window = 5,\n",
    "                        min_count = 1,\n",
    "                        sg = 0,\n",
    "                        alpha = 0.025,\n",
    "                        iter=10,\n",
    "                        batch_words = 10000)"
   ]
  },
  {
   "cell_type": "code",
   "execution_count": 14,
   "metadata": {},
   "outputs": [],
   "source": [
    "w2v_model.save(MODELDIR + \"/word2vec_zh.model\")"
   ]
  },
  {
   "cell_type": "code",
   "execution_count": 15,
   "metadata": {},
   "outputs": [
    {
     "data": {
      "text/plain": [
       "[('电子计算机', 0.7262747287750244),\n",
       " ('电脑', 0.7179098725318909),\n",
       " ('程序设计', 0.6950171589851379),\n",
       " ('硬件', 0.6777796745300293),\n",
       " ('打印机', 0.6771933436393738),\n",
       " ('微处理器', 0.6766078472137451),\n",
       " ('编程语言', 0.6708018779754639),\n",
       " ('芯片', 0.66704922914505),\n",
       " ('计算机系统', 0.6664767265319824),\n",
       " ('个人电脑', 0.6633455753326416)]"
      ]
     },
     "execution_count": 15,
     "metadata": {},
     "output_type": "execute_result"
    }
   ],
   "source": [
    "#相似词筛选\n",
    "w2v_model.wv.most_similar(positive=['计算机'])"
   ]
  },
  {
   "cell_type": "code",
   "execution_count": 16,
   "metadata": {},
   "outputs": [
    {
     "data": {
      "image/png": "[encoded data removed]",
      "text/plain": [
       "<Figure size 1008x720 with 1 Axes>"
      ]
     },
     "metadata": {
      "needs_background": "light"
     },
     "output_type": "display_data"
    }
   ],
   "source": [
    "%matplotlib inline\n",
    "\n",
    "from sklearn.metrics import pairwise\n",
    "from sklearn.manifold import MDS\n",
    "import matplotlib.pyplot as plt\n",
    "\n",
    "f_tokens = [token for token,weight in w2v_model.wv.most_similar(positive=['食物'], topn=50)]\n",
    "vectors = [w2v_model.wv[word] for word in f_tokens]\n",
    "dist_matrix = pairwise.pairwise_distances(vectors, metric='cosine')\n",
    "mds = MDS(n_components = 2, dissimilarity='precomputed')\n",
    "embeddings = mds.fit_transform(dist_matrix)\n",
    "\n",
    "plt.rcParams['font.sans-serif']=['SimHei'] #用来正常显示中文标签\n",
    "plt.rcParams['axes.unicode_minus']=False #用来正常显示负号\n",
    "_, ax = plt.subplots(figsize=(14,10))\n",
    "ax.scatter(embeddings[:,0], embeddings[:,1], alpha=0)\n",
    "for i in range(len(vectors)):\n",
    "    ax.annotate(f_tokens[i], ((embeddings[i,0], embeddings[i,1])))"
   ]
  }
 ],
 "metadata": {
  "kernelspec": {
   "display_name": "py36",
   "language": "python",
   "name": "py36"
  },
  "language_info": {
   "codemirror_mode": {
    "name": "ipython",
    "version": 3
   },
   "file_extension": ".py",
   "mimetype": "text/x-python",
   "name": "python",
   "nbconvert_exporter": "python",
   "pygments_lexer": "ipython3",
   "version": "3.6.10"
  },
  "pycharm": {
   "stem_cell": {
    "cell_type": "raw",
    "metadata": {
     "collapsed": false
    },
    "source": []
   }
  }
 },
 "nbformat": 4,
 "nbformat_minor": 4
}
